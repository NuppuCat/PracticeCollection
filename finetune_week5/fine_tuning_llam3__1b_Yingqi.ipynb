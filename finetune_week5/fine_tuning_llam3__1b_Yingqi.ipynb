{
  "cells": [
    {
      "cell_type": "code",
      "execution_count": 1,
      "id": "70d5a1f2",
      "metadata": {
        "_cell_guid": "b1076dfc-b9ad-4769-8c92-a6c4dae69d19",
        "_uuid": "8f2839f25d086af736a60e9eeb907d3b93b6e0e5",
        "execution": {
          "iopub.execute_input": "2025-01-31T17:34:46.813195Z",
          "iopub.status.busy": "2025-01-31T17:34:46.812843Z",
          "iopub.status.idle": "2025-01-31T17:34:47.773234Z",
          "shell.execute_reply": "2025-01-31T17:34:47.772258Z"
        },
        "papermill": {
          "duration": 0.973212,
          "end_time": "2025-01-31T17:34:47.775201",
          "exception": false,
          "start_time": "2025-01-31T17:34:46.801989",
          "status": "completed"
        },
        "tags": [],
        "id": "70d5a1f2"
      },
      "outputs": [],
      "source": [
        "# This Python 3 environment comes with many helpful analytics libraries installed\n",
        "# It is defined by the kaggle/python Docker image: https://github.com/kaggle/docker-python\n",
        "# For example, here's several helpful packages to load\n",
        "\n",
        "import numpy as np # linear algebra\n",
        "import pandas as pd # data processing, CSV file I/O (e.g. pd.read_csv)\n",
        "\n",
        "# Input data files are available in the read-only \"../input/\" directory\n",
        "# For example, running this (by clicking run or pressing Shift+Enter) will list all files under the input directory\n",
        "\n",
        "import os\n",
        "for dirname, _, filenames in os.walk('/kaggle/input'):\n",
        "    for filename in filenames:\n",
        "        print(os.path.join(dirname, filename))\n",
        "\n",
        "# You can write up to 20GB to the current directory (/kaggle/working/) that gets preserved as output when you create a version using \"Save & Run All\"\n",
        "# You can also write temporary files to /kaggle/temp/, but they won't be saved outside of the current session"
      ]
    },
    {
      "cell_type": "code",
      "execution_count": 2,
      "id": "68496767",
      "metadata": {
        "execution": {
          "iopub.execute_input": "2025-01-31T14:19:29.983560Z",
          "iopub.status.busy": "2025-01-31T14:19:29.983237Z",
          "iopub.status.idle": "2025-01-31T14:19:53.301107Z",
          "shell.execute_reply": "2025-01-31T14:19:53.300269Z",
          "shell.execute_reply.started": "2025-01-31T14:19:29.983532Z"
        },
        "papermill": {
          "duration": null,
          "end_time": null,
          "exception": false,
          "start_time": "2025-01-31T17:34:47.782989",
          "status": "running"
        },
        "tags": [],
        "id": "68496767"
      },
      "outputs": [],
      "source": [
        "# run locally, installed on conda powershell\n",
        "!pip install -q -U bitsandbytes transformers peft accelerate datasets scipy einops evaluate trl rouge_score\n"
      ]
    },
    {
      "cell_type": "code",
      "execution_count": 3,
      "id": "d2120e00",
      "metadata": {
        "execution": {
          "iopub.execute_input": "2025-01-31T14:21:19.774492Z",
          "iopub.status.busy": "2025-01-31T14:21:19.774181Z",
          "iopub.status.idle": "2025-01-31T14:21:40.216085Z",
          "shell.execute_reply": "2025-01-31T14:21:40.214716Z",
          "shell.execute_reply.started": "2025-01-31T14:21:19.774469Z"
        },
        "papermill": {
          "duration": null,
          "end_time": null,
          "exception": null,
          "start_time": null,
          "status": "pending"
        },
        "tags": [],
        "colab": {
          "base_uri": "https://localhost:8080/"
        },
        "id": "d2120e00",
        "outputId": "f6040a50-1612-4c6a-db75-84db4ba86d1d"
      },
      "outputs": [
        {
          "output_type": "stream",
          "name": "stdout",
          "text": [
            "BitsAndBytes version: 0.45.2\n",
            "Transformers version: 4.48.3\n",
            "PEFT version: 0.14.0\n",
            "Accelerate version: 1.3.0\n",
            "Datasets version: 3.2.0\n",
            "Scipy version: 1.15.1\n",
            "Einops version: 0.8.1\n",
            "Evaluate version: 0.4.3\n",
            "TRL version: 0.15.0\n",
            "rouge-score version: 0.1.2\n"
          ]
        }
      ],
      "source": [
        "import bitsandbytes\n",
        "import transformers\n",
        "import peft\n",
        "import accelerate\n",
        "import datasets\n",
        "import scipy\n",
        "import einops\n",
        "import evaluate\n",
        "import trl\n",
        "import rouge_score\n",
        "\n",
        "\n",
        "print(\"BitsAndBytes version:\", bitsandbytes.__version__)\n",
        "print(\"Transformers version:\", transformers.__version__)\n",
        "print(\"PEFT version:\", peft.__version__)\n",
        "print(\"Accelerate version:\", accelerate.__version__)\n",
        "print(\"Datasets version:\", datasets.__version__)\n",
        "print(\"Scipy version:\", scipy.__version__)\n",
        "print(\"Einops version:\", einops.__version__)\n",
        "print(\"Evaluate version:\", evaluate.__version__)\n",
        "print(\"TRL version:\", trl.__version__)\n",
        "# solution\n",
        "from importlib.metadata import version\n",
        "\n",
        "try:\n",
        "    rouge_score_version = version('rouge-score')\n",
        "    print(f'rouge-score version: {rouge_score_version}')\n",
        "except Exception as e:\n",
        "    print(f'Error retrieving version: {e}')\n",
        "#bug: module 'rouge_score' has no attribute '__version__'\n",
        "#print(\"Rouge Score version:\", rouge_score.__version__)\n",
        "\n",
        "\n"
      ]
    },
    {
      "cell_type": "code",
      "execution_count": 4,
      "id": "bcc98613",
      "metadata": {
        "execution": {
          "iopub.execute_input": "2025-01-31T14:22:31.448443Z",
          "iopub.status.busy": "2025-01-31T14:22:31.448165Z",
          "iopub.status.idle": "2025-01-31T14:22:31.452192Z",
          "shell.execute_reply": "2025-01-31T14:22:31.451233Z",
          "shell.execute_reply.started": "2025-01-31T14:22:31.448423Z"
        },
        "papermill": {
          "duration": null,
          "end_time": null,
          "exception": null,
          "start_time": null,
          "status": "pending"
        },
        "tags": [],
        "id": "bcc98613"
      },
      "outputs": [],
      "source": [
        "import os\n",
        "# disable Weights and Biases\n",
        "os.environ['WANDB_DISABLED']=\"true\""
      ]
    },
    {
      "cell_type": "code",
      "execution_count": 5,
      "id": "8bcb0c19",
      "metadata": {
        "execution": {
          "iopub.execute_input": "2025-01-31T14:23:21.830631Z",
          "iopub.status.busy": "2025-01-31T14:23:21.830321Z",
          "iopub.status.idle": "2025-01-31T14:23:25.961978Z",
          "shell.execute_reply": "2025-01-31T14:23:25.961287Z",
          "shell.execute_reply.started": "2025-01-31T14:23:21.830609Z"
        },
        "papermill": {
          "duration": null,
          "end_time": null,
          "exception": null,
          "start_time": null,
          "status": "pending"
        },
        "tags": [],
        "colab": {
          "base_uri": "https://localhost:8080/"
        },
        "id": "8bcb0c19",
        "outputId": "404f5ecf-2e39-4a13-fecb-a6297c52d52b"
      },
      "outputs": [
        {
          "output_type": "stream",
          "name": "stderr",
          "text": [
            "Using the `WANDB_DISABLED` environment variable is deprecated and will be removed in v5. Use the --report_to flag to control the integrations used for logging result (for instance --report_to none).\n"
          ]
        },
        {
          "name": "stdout",
          "output_type": "stream",
          "text": [
            "\n",
            "    _|    _|  _|    _|    _|_|_|    _|_|_|  _|_|_|  _|      _|    _|_|_|      _|_|_|_|    _|_|      _|_|_|  _|_|_|_|\n",
            "    _|    _|  _|    _|  _|        _|          _|    _|_|    _|  _|            _|        _|    _|  _|        _|\n",
            "    _|_|_|_|  _|    _|  _|  _|_|  _|  _|_|    _|    _|  _|  _|  _|  _|_|      _|_|_|    _|_|_|_|  _|        _|_|_|\n",
            "    _|    _|  _|    _|  _|    _|  _|    _|    _|    _|    _|_|  _|    _|      _|        _|    _|  _|        _|\n",
            "    _|    _|    _|_|      _|_|_|    _|_|_|  _|_|_|  _|      _|    _|_|_|      _|        _|    _|    _|_|_|  _|_|_|_|\n",
            "\n",
            "Enter your token (input will not be visible): ··········\n",
            "Add token as git credential? (Y/n) Y\n"
          ]
        }
      ],
      "source": [
        "from datasets import load_dataset\n",
        "from transformers import (\n",
        "    AutoModelForCausalLM,\n",
        "    AutoTokenizer,\n",
        "    BitsAndBytesConfig,\n",
        "    HfArgumentParser,\n",
        "    AutoTokenizer,\n",
        "    TrainingArguments,\n",
        "    Trainer,\n",
        "    GenerationConfig\n",
        ")\n",
        "from tqdm import tqdm\n",
        "from trl import SFTTrainer\n",
        "import torch\n",
        "import time\n",
        "import pandas as pd\n",
        "import numpy as np\n",
        "from huggingface_hub import interpreter_login\n",
        "\n",
        "interpreter_login()"
      ]
    },
    {
      "cell_type": "code",
      "execution_count": 6,
      "id": "bdc28769",
      "metadata": {
        "execution": {
          "iopub.execute_input": "2025-01-31T14:23:45.482772Z",
          "iopub.status.busy": "2025-01-31T14:23:45.482466Z",
          "iopub.status.idle": "2025-01-31T14:23:45.486970Z",
          "shell.execute_reply": "2025-01-31T14:23:45.486026Z",
          "shell.execute_reply.started": "2025-01-31T14:23:45.482747Z"
        },
        "papermill": {
          "duration": null,
          "end_time": null,
          "exception": null,
          "start_time": null,
          "status": "pending"
        },
        "tags": [],
        "id": "bdc28769"
      },
      "outputs": [],
      "source": [
        "from pynvml import *\n",
        "\n",
        "def print_gpu_utilization():\n",
        "    nvmlInit()\n",
        "    handle = nvmlDeviceGetHandleByIndex(0)\n",
        "    info = nvmlDeviceGetMemoryInfo(handle)\n",
        "    print(f\"GPU memory occupied: {info.used//1024**2} MB.\")"
      ]
    },
    {
      "cell_type": "code",
      "execution_count": 7,
      "id": "3bd9f448",
      "metadata": {
        "execution": {
          "iopub.execute_input": "2025-01-31T14:23:58.192663Z",
          "iopub.status.busy": "2025-01-31T14:23:58.192374Z",
          "iopub.status.idle": "2025-01-31T14:24:01.771245Z",
          "shell.execute_reply": "2025-01-31T14:24:01.770618Z",
          "shell.execute_reply.started": "2025-01-31T14:23:58.192642Z"
        },
        "papermill": {
          "duration": null,
          "end_time": null,
          "exception": null,
          "start_time": null,
          "status": "pending"
        },
        "tags": [],
        "colab": {
          "base_uri": "https://localhost:8080/"
        },
        "id": "3bd9f448",
        "outputId": "b3be461b-8eb5-4315-b368-cb31024394d7"
      },
      "outputs": [
        {
          "output_type": "execute_result",
          "data": {
            "text/plain": [
              "DatasetDict({\n",
              "    train: Dataset({\n",
              "        features: ['id', 'dialogue', 'summary', 'topic'],\n",
              "        num_rows: 1999\n",
              "    })\n",
              "    validation: Dataset({\n",
              "        features: ['id', 'dialogue', 'summary', 'topic'],\n",
              "        num_rows: 499\n",
              "    })\n",
              "    test: Dataset({\n",
              "        features: ['id', 'dialogue', 'summary', 'topic'],\n",
              "        num_rows: 499\n",
              "    })\n",
              "})"
            ]
          },
          "metadata": {},
          "execution_count": 7
        }
      ],
      "source": [
        "# https://huggingface.co/datasets/neil-code/dialogsum-test\n",
        "huggingface_dataset_name = \"neil-code/dialogsum-test\"\n",
        "dataset = load_dataset(huggingface_dataset_name)\n",
        "dataset"
      ]
    },
    {
      "cell_type": "code",
      "execution_count": 8,
      "id": "484c65f1",
      "metadata": {
        "execution": {
          "iopub.execute_input": "2025-01-31T14:24:18.727693Z",
          "iopub.status.busy": "2025-01-31T14:24:18.727411Z",
          "iopub.status.idle": "2025-01-31T14:24:18.734332Z",
          "shell.execute_reply": "2025-01-31T14:24:18.733589Z",
          "shell.execute_reply.started": "2025-01-31T14:24:18.727672Z"
        },
        "papermill": {
          "duration": null,
          "end_time": null,
          "exception": null,
          "start_time": null,
          "status": "pending"
        },
        "tags": [],
        "colab": {
          "base_uri": "https://localhost:8080/"
        },
        "id": "484c65f1",
        "outputId": "ddcbb457-9380-4b61-9d77-f4da797f67de"
      },
      "outputs": [
        {
          "output_type": "execute_result",
          "data": {
            "text/plain": [
              "{'id': 'train_0',\n",
              " 'dialogue': \"#Person1#: Hi, Mr. Smith. I'm Doctor Hawkins. Why are you here today?\\n#Person2#: I found it would be a good idea to get a check-up.\\n#Person1#: Yes, well, you haven't had one for 5 years. You should have one every year.\\n#Person2#: I know. I figure as long as there is nothing wrong, why go see the doctor?\\n#Person1#: Well, the best way to avoid serious illnesses is to find out about them early. So try to come at least once a year for your own good.\\n#Person2#: Ok.\\n#Person1#: Let me see here. Your eyes and ears look fine. Take a deep breath, please. Do you smoke, Mr. Smith?\\n#Person2#: Yes.\\n#Person1#: Smoking is the leading cause of lung cancer and heart disease, you know. You really should quit.\\n#Person2#: I've tried hundreds of times, but I just can't seem to kick the habit.\\n#Person1#: Well, we have classes and some medications that might help. I'll give you more information before you leave.\\n#Person2#: Ok, thanks doctor.\",\n",
              " 'summary': \"Mr. Smith's getting a check-up, and Doctor Hawkins advises him to have one every year. Hawkins'll give some information about their classes and medications to help Mr. Smith quit smoking.\",\n",
              " 'topic': 'get a check-up'}"
            ]
          },
          "metadata": {},
          "execution_count": 8
        }
      ],
      "source": [
        "dataset['train'][0]\n",
        "\n"
      ]
    },
    {
      "cell_type": "code",
      "execution_count": 9,
      "id": "5ece06e6",
      "metadata": {
        "execution": {
          "iopub.execute_input": "2025-01-31T14:24:43.136185Z",
          "iopub.status.busy": "2025-01-31T14:24:43.135849Z",
          "iopub.status.idle": "2025-01-31T14:24:43.142066Z",
          "shell.execute_reply": "2025-01-31T14:24:43.141204Z",
          "shell.execute_reply.started": "2025-01-31T14:24:43.136161Z"
        },
        "papermill": {
          "duration": null,
          "end_time": null,
          "exception": null,
          "start_time": null,
          "status": "pending"
        },
        "tags": [],
        "id": "5ece06e6"
      },
      "outputs": [],
      "source": [
        "compute_dtype = getattr(torch, \"float16\")\n",
        "bnb_config = BitsAndBytesConfig(\n",
        "        load_in_4bit=True,\n",
        "        bnb_4bit_quant_type='nf4',\n",
        "        bnb_4bit_compute_dtype=compute_dtype,\n",
        "        bnb_4bit_use_double_quant=False,\n",
        "    )\n",
        "device_map = {\"\": 0}"
      ]
    },
    {
      "cell_type": "code",
      "execution_count": 10,
      "id": "877a49ca",
      "metadata": {
        "execution": {
          "iopub.execute_input": "2025-01-31T14:24:53.973914Z",
          "iopub.status.busy": "2025-01-31T14:24:53.973626Z",
          "iopub.status.idle": "2025-01-31T14:27:10.924279Z",
          "shell.execute_reply": "2025-01-31T14:27:10.923619Z",
          "shell.execute_reply.started": "2025-01-31T14:24:53.973894Z"
        },
        "papermill": {
          "duration": null,
          "end_time": null,
          "exception": null,
          "start_time": null,
          "status": "pending"
        },
        "tags": [],
        "colab": {
          "base_uri": "https://localhost:8080/"
        },
        "id": "877a49ca",
        "outputId": "3ee82ea6-19f9-4fe7-bd89-5d2b8f9be7eb"
      },
      "outputs": [
        {
          "output_type": "stream",
          "name": "stderr",
          "text": [
            "D:\\python\\envs\\finetunellm\\lib\\site-packages\\transformers\\models\\auto\\auto_factory.py:471: FutureWarning: The `use_auth_token` argument is deprecated and will be removed in v5 of Transformers. Please use `token` instead.\n",
            "  warnings.warn(\n"
          ]
        }
      ],
      "source": [
        "model_name='meta-llama/Llama-3.2-1B'\n",
        "original_model = AutoModelForCausalLM.from_pretrained(model_name,\n",
        "                                                      device_map=device_map,\n",
        "                                                      quantization_config=bnb_config,\n",
        "                                                      trust_remote_code=True,\n",
        "                                                      use_auth_token=True)"
      ]
    },
    {
      "cell_type": "code",
      "execution_count": 11,
      "id": "2e1b6f56",
      "metadata": {
        "execution": {
          "iopub.execute_input": "2025-01-31T14:28:12.022831Z",
          "iopub.status.busy": "2025-01-31T14:28:12.022526Z",
          "iopub.status.idle": "2025-01-31T14:28:14.548898Z",
          "shell.execute_reply": "2025-01-31T14:28:14.548123Z",
          "shell.execute_reply.started": "2025-01-31T14:28:12.022810Z"
        },
        "papermill": {
          "duration": null,
          "end_time": null,
          "exception": null,
          "start_time": null,
          "status": "pending"
        },
        "tags": [],
        "id": "2e1b6f56"
      },
      "outputs": [],
      "source": [
        "# https://ai.stackexchange.com/questions/41485/while-fine-tuning-a-decoder-only-llm-like-llama-on-chat-dataset-what-kind-of-pa\n",
        "tokenizer = AutoTokenizer.from_pretrained(model_name,trust_remote_code=True,padding_side=\"left\",add_eos_token=True,add_bos_token=True,use_fast=False)\n",
        "tokenizer.pad_token = tokenizer.eos_token"
      ]
    },
    {
      "cell_type": "code",
      "execution_count": 12,
      "id": "3675e512",
      "metadata": {
        "execution": {
          "iopub.execute_input": "2025-01-31T14:28:25.297983Z",
          "iopub.status.busy": "2025-01-31T14:28:25.297654Z",
          "iopub.status.idle": "2025-01-31T14:28:25.303177Z",
          "shell.execute_reply": "2025-01-31T14:28:25.302162Z",
          "shell.execute_reply.started": "2025-01-31T14:28:25.297922Z"
        },
        "papermill": {
          "duration": null,
          "end_time": null,
          "exception": null,
          "start_time": null,
          "status": "pending"
        },
        "tags": [],
        "id": "3675e512",
        "colab": {
          "base_uri": "https://localhost:8080/"
        },
        "outputId": "4a1acd4e-8dd4-4ded-d278-30e2b763935f"
      },
      "outputs": [
        {
          "output_type": "stream",
          "name": "stdout",
          "text": [
            "GPU memory occupied: 1616 MB.\n"
          ]
        }
      ],
      "source": [
        "print_gpu_utilization()\n"
      ]
    },
    {
      "cell_type": "code",
      "execution_count": 13,
      "id": "c962ff14",
      "metadata": {
        "execution": {
          "iopub.execute_input": "2025-01-31T14:28:44.289558Z",
          "iopub.status.busy": "2025-01-31T14:28:44.289206Z",
          "iopub.status.idle": "2025-01-31T14:28:44.479182Z",
          "shell.execute_reply": "2025-01-31T14:28:44.478344Z",
          "shell.execute_reply.started": "2025-01-31T14:28:44.289531Z"
        },
        "papermill": {
          "duration": null,
          "end_time": null,
          "exception": null,
          "start_time": null,
          "status": "pending"
        },
        "tags": [],
        "id": "c962ff14"
      },
      "outputs": [],
      "source": [
        "eval_tokenizer = AutoTokenizer.from_pretrained(model_name, add_bos_token=True, trust_remote_code=True, use_fast=False)\n",
        "eval_tokenizer.pad_token = eval_tokenizer.eos_token\n",
        "\n",
        "def gen(model,p, maxlen=100, sample=True):\n",
        "    toks = eval_tokenizer(p, return_tensors=\"pt\")\n",
        "    res = model.generate(**toks.to(\"cuda\"), max_new_tokens=maxlen, do_sample=sample,num_return_sequences=1,temperature=0.1,num_beams=1,top_p=0.95,).to('cpu')\n",
        "    return eval_tokenizer.batch_decode(res,skip_special_tokens=True)"
      ]
    },
    {
      "cell_type": "code",
      "execution_count": 14,
      "id": "33b5b4a8",
      "metadata": {
        "execution": {
          "iopub.execute_input": "2025-01-31T14:28:59.715828Z",
          "iopub.status.busy": "2025-01-31T14:28:59.715496Z",
          "iopub.status.idle": "2025-01-31T14:29:03.062327Z",
          "shell.execute_reply": "2025-01-31T14:29:03.061453Z",
          "shell.execute_reply.started": "2025-01-31T14:28:59.715802Z"
        },
        "papermill": {
          "duration": null,
          "end_time": null,
          "exception": null,
          "start_time": null,
          "status": "pending"
        },
        "tags": [],
        "id": "33b5b4a8",
        "colab": {
          "base_uri": "https://localhost:8080/"
        },
        "outputId": "14d0656d-96f2-4efe-8455-94ae00790139"
      },
      "outputs": [
        {
          "output_type": "stream",
          "name": "stderr",
          "text": [
            "Setting `pad_token_id` to `eos_token_id`:128001 for open-end generation.\n"
          ]
        },
        {
          "output_type": "stream",
          "name": "stdout",
          "text": [
            "---------------------------------------------------------------------------------------------------\n",
            "INPUT PROMPT:\n",
            "Instruct: Summarize the following conversation.\n",
            "#Person1#: Happy Birthday, this is for you, Brian.\n",
            "#Person2#: I'm so happy you remember, please come in and enjoy the party. Everyone's here, I'm sure you have a good time.\n",
            "#Person1#: Brian, may I have a pleasure to have a dance with you?\n",
            "#Person2#: Ok.\n",
            "#Person1#: This is really wonderful party.\n",
            "#Person2#: Yes, you are always popular with everyone. and you look very pretty today.\n",
            "#Person1#: Thanks, that's very kind of you to say. I hope my necklace goes with my dress, and they both make me look good I feel.\n",
            "#Person2#: You look great, you are absolutely glowing.\n",
            "#Person1#: Thanks, this is a fine party. We should have a drink together to celebrate your birthday\n",
            "Output:\n",
            "\n",
            "---------------------------------------------------------------------------------------------------\n",
            "BASELINE HUMAN SUMMARY:\n",
            "#Person1# attends Brian's birthday party. Brian thinks #Person1# looks great and charming.\n",
            "\n",
            "---------------------------------------------------------------------------------------------------\n",
            "MODEL GENERATION - ZERO SHOT:\n",
            "#Person1#: Happy Birthday, this is for you, Brian.\n",
            "#Person2#: I'm so happy you remember, please come in and enjoy the party. Everyone's here, I'm sure you have a good time.\n",
            "#Person1#: Brian, may I have a pleasure to have a dance with you?\n",
            "#Person2#: Ok.\n",
            "#Person1#: This is really wonderful party.\n",
            "#Person2#: Yes, you are always popular with everyone. and you look very pretty today.\n",
            "\n",
            "CPU times: total: 2.5 s\n",
            "Wall time: 2.72 s\n"
          ]
        }
      ],
      "source": [
        "%%time\n",
        "from transformers import set_seed\n",
        "seed = 42\n",
        "set_seed(seed)\n",
        "\n",
        "index = 10\n",
        "\n",
        "prompt = dataset['test'][index]['dialogue']\n",
        "summary = dataset['test'][index]['summary']\n",
        "\n",
        "formatted_prompt = f\"Instruct: Summarize the following conversation.\\n{prompt}\\nOutput:\\n\"\n",
        "res = gen(original_model,formatted_prompt,100,)\n",
        "#print(res[0])\n",
        "output = res[0].split('Output:\\n')[1]\n",
        "\n",
        "dash_line = '-'.join('' for x in range(100))\n",
        "print(dash_line)\n",
        "print(f'INPUT PROMPT:\\n{formatted_prompt}')\n",
        "print(dash_line)\n",
        "print(f'BASELINE HUMAN SUMMARY:\\n{summary}\\n')\n",
        "print(dash_line)\n",
        "print(f'MODEL GENERATION - ZERO SHOT:\\n{output}')"
      ]
    },
    {
      "cell_type": "code",
      "execution_count": 15,
      "id": "c154282f",
      "metadata": {
        "execution": {
          "iopub.execute_input": "2025-01-31T14:29:55.868446Z",
          "iopub.status.busy": "2025-01-31T14:29:55.868027Z",
          "iopub.status.idle": "2025-01-31T14:29:55.874161Z",
          "shell.execute_reply": "2025-01-31T14:29:55.873267Z",
          "shell.execute_reply.started": "2025-01-31T14:29:55.868414Z"
        },
        "papermill": {
          "duration": null,
          "end_time": null,
          "exception": null,
          "start_time": null,
          "status": "pending"
        },
        "tags": [],
        "id": "c154282f"
      },
      "outputs": [],
      "source": [
        "def create_prompt_formats(sample):\n",
        "    \"\"\"\n",
        "    Format various fields of the sample ('instruction','output')\n",
        "    Then concatenate them using two newline characters\n",
        "    :param sample: Sample dictionnary\n",
        "    \"\"\"\n",
        "    INTRO_BLURB = \"Below is an instruction that describes a task. Write a response that appropriately completes the request.\"\n",
        "    INSTRUCTION_KEY = \"### Instruct: Summarize the below conversation.\"\n",
        "    RESPONSE_KEY = \"### Output:\"\n",
        "    END_KEY = \"### End\"\n",
        "\n",
        "    blurb = f\"\\n{INTRO_BLURB}\"\n",
        "    instruction = f\"{INSTRUCTION_KEY}\"\n",
        "    input_context = f\"{sample['dialogue']}\" if sample[\"dialogue\"] else None\n",
        "    response = f\"{RESPONSE_KEY}\\n{sample['summary']}\"\n",
        "    end = f\"{END_KEY}\"\n",
        "\n",
        "    parts = [part for part in [blurb, instruction, input_context, response, end] if part]\n",
        "\n",
        "    formatted_prompt = \"\\n\\n\".join(parts)\n",
        "    sample[\"text\"] = formatted_prompt\n",
        "\n",
        "    return sample"
      ]
    },
    {
      "cell_type": "code",
      "execution_count": 16,
      "id": "18955d00",
      "metadata": {
        "execution": {
          "iopub.execute_input": "2025-01-31T14:30:11.226598Z",
          "iopub.status.busy": "2025-01-31T14:30:11.226303Z",
          "iopub.status.idle": "2025-01-31T14:30:11.232046Z",
          "shell.execute_reply": "2025-01-31T14:30:11.231102Z",
          "shell.execute_reply.started": "2025-01-31T14:30:11.226577Z"
        },
        "papermill": {
          "duration": null,
          "end_time": null,
          "exception": null,
          "start_time": null,
          "status": "pending"
        },
        "tags": [],
        "id": "18955d00"
      },
      "outputs": [],
      "source": [
        "# SOURCE https://github.com/databrickslabs/dolly/blob/master/training/trainer.py\n",
        "def get_max_length(model):\n",
        "    conf = model.config\n",
        "    max_length = None\n",
        "    for length_setting in [\"n_positions\", \"max_position_embeddings\", \"seq_length\"]:\n",
        "        max_length = getattr(model.config, length_setting, None)\n",
        "        if max_length:\n",
        "            print(f\"Found max lenth: {max_length}\")\n",
        "            break\n",
        "    if not max_length:\n",
        "        max_length = 1024\n",
        "        print(f\"Using default max length: {max_length}\")\n",
        "    return max_length\n",
        "\n",
        "\n",
        "def preprocess_batch(batch, tokenizer, max_length):\n",
        "    \"\"\"\n",
        "    Tokenizing a batch\n",
        "    \"\"\"\n",
        "    return tokenizer(\n",
        "        batch[\"text\"],\n",
        "        max_length=max_length,\n",
        "        truncation=True,\n",
        "    )"
      ]
    },
    {
      "cell_type": "code",
      "execution_count": 17,
      "id": "609c7d52",
      "metadata": {
        "execution": {
          "iopub.execute_input": "2025-01-31T14:30:30.414730Z",
          "iopub.status.busy": "2025-01-31T14:30:30.414445Z",
          "iopub.status.idle": "2025-01-31T14:30:30.419851Z",
          "shell.execute_reply": "2025-01-31T14:30:30.418978Z",
          "shell.execute_reply.started": "2025-01-31T14:30:30.414708Z"
        },
        "papermill": {
          "duration": null,
          "end_time": null,
          "exception": null,
          "start_time": null,
          "status": "pending"
        },
        "tags": [],
        "id": "609c7d52"
      },
      "outputs": [],
      "source": [
        "from functools import partial\n",
        "\n",
        "# SOURCE https://github.com/databrickslabs/dolly/blob/master/training/trainer.py\n",
        "def preprocess_dataset(tokenizer: AutoTokenizer, max_length: int,seed, dataset):\n",
        "    \"\"\"Format & tokenize it so it is ready for training\n",
        "    :param tokenizer (AutoTokenizer): Model Tokenizer\n",
        "    :param max_length (int): Maximum number of tokens to emit from tokenizer\n",
        "    \"\"\"\n",
        "\n",
        "    # Add prompt to each sample\n",
        "    print(\"Preprocessing dataset...\")\n",
        "    dataset = dataset.map(create_prompt_formats)#, batched=True)\n",
        "\n",
        "    _preprocessing_function = partial(preprocess_batch, max_length=max_length, tokenizer=tokenizer)\n",
        "    dataset = dataset.map(\n",
        "        _preprocessing_function,\n",
        "        batched=True,\n",
        "        remove_columns=['id', 'topic', 'dialogue', 'summary'],\n",
        "    )\n",
        "\n",
        "    # Filter out samples that have input_ids exceeding max_length\n",
        "    dataset = dataset.filter(lambda sample: len(sample[\"input_ids\"]) < max_length)\n",
        "\n",
        "    # Shuffle dataset\n",
        "    dataset = dataset.shuffle(seed=seed)\n",
        "\n",
        "    return dataset"
      ]
    },
    {
      "cell_type": "code",
      "execution_count": 18,
      "id": "20e0af1d",
      "metadata": {
        "execution": {
          "iopub.execute_input": "2025-01-31T14:30:38.763207Z",
          "iopub.status.busy": "2025-01-31T14:30:38.762867Z",
          "iopub.status.idle": "2025-01-31T14:30:38.767618Z",
          "shell.execute_reply": "2025-01-31T14:30:38.766874Z",
          "shell.execute_reply.started": "2025-01-31T14:30:38.763182Z"
        },
        "papermill": {
          "duration": null,
          "end_time": null,
          "exception": null,
          "start_time": null,
          "status": "pending"
        },
        "tags": [],
        "id": "20e0af1d",
        "colab": {
          "base_uri": "https://localhost:8080/"
        },
        "outputId": "db2b0a05-6fb0-4dc4-b9a4-5ea61ed407a8"
      },
      "outputs": [
        {
          "output_type": "stream",
          "name": "stdout",
          "text": [
            "GPU memory occupied: 1700 MB.\n"
          ]
        }
      ],
      "source": [
        "print_gpu_utilization()\n"
      ]
    },
    {
      "cell_type": "code",
      "execution_count": 19,
      "id": "25987aa1",
      "metadata": {
        "execution": {
          "iopub.execute_input": "2025-01-31T14:31:00.146357Z",
          "iopub.status.busy": "2025-01-31T14:31:00.145922Z",
          "iopub.status.idle": "2025-01-31T14:31:08.380427Z",
          "shell.execute_reply": "2025-01-31T14:31:08.379725Z",
          "shell.execute_reply.started": "2025-01-31T14:31:00.146324Z"
        },
        "papermill": {
          "duration": null,
          "end_time": null,
          "exception": null,
          "start_time": null,
          "status": "pending"
        },
        "tags": [],
        "id": "25987aa1",
        "colab": {
          "base_uri": "https://localhost:8080/"
        },
        "outputId": "5aee415b-e060-42f7-fda4-76bd1b4de3d7"
      },
      "outputs": [
        {
          "output_type": "stream",
          "name": "stdout",
          "text": [
            "Found max lenth: 131072\n",
            "131072\n",
            "Preprocessing dataset...\n",
            "Preprocessing dataset...\n",
            "Shapes of the datasets:\n",
            "Training: (1999, 3)\n",
            "Validation: (499, 3)\n",
            "Dataset({\n",
            "    features: ['text', 'input_ids', 'attention_mask'],\n",
            "    num_rows: 1999\n",
            "})\n"
          ]
        }
      ],
      "source": [
        "# ## Pre-process dataset\n",
        "max_length = get_max_length(original_model)\n",
        "print(max_length)\n",
        "\n",
        "train_dataset = preprocess_dataset(tokenizer, max_length,seed, dataset['train'])\n",
        "eval_dataset = preprocess_dataset(tokenizer, max_length,seed, dataset['validation'])\n",
        "\n",
        "print(f\"Shapes of the datasets:\")\n",
        "print(f\"Training: {train_dataset.shape}\")\n",
        "print(f\"Validation: {eval_dataset.shape}\")\n",
        "print(train_dataset)"
      ]
    },
    {
      "cell_type": "code",
      "execution_count": 20,
      "id": "cf425cb8",
      "metadata": {
        "execution": {
          "iopub.execute_input": "2025-01-31T14:32:05.057386Z",
          "iopub.status.busy": "2025-01-31T14:32:05.057057Z",
          "iopub.status.idle": "2025-01-31T14:32:05.064333Z",
          "shell.execute_reply": "2025-01-31T14:32:05.063419Z",
          "shell.execute_reply.started": "2025-01-31T14:32:05.057362Z"
        },
        "papermill": {
          "duration": null,
          "end_time": null,
          "exception": null,
          "start_time": null,
          "status": "pending"
        },
        "tags": [],
        "id": "cf425cb8",
        "colab": {
          "base_uri": "https://localhost:8080/"
        },
        "outputId": "09dc4dc0-ba2e-4c1e-ab39-1478d8ef7d7a"
      },
      "outputs": [
        {
          "output_type": "stream",
          "name": "stdout",
          "text": [
            "trainable model parameters: 262735872\n",
            "all model parameters: 749275136\n",
            "percentage of trainable model parameters: 35.07%\n"
          ]
        }
      ],
      "source": [
        "def print_number_of_trainable_model_parameters(model):\n",
        "    trainable_model_params = 0\n",
        "    all_model_params = 0\n",
        "    for _, param in model.named_parameters():\n",
        "        all_model_params += param.numel()\n",
        "        if param.requires_grad:\n",
        "            trainable_model_params += param.numel()\n",
        "    return f\"trainable model parameters: {trainable_model_params}\\nall model parameters: {all_model_params}\\npercentage of trainable model parameters: {100 * trainable_model_params / all_model_params:.2f}%\"\n",
        "\n",
        "print(print_number_of_trainable_model_parameters(original_model))"
      ]
    },
    {
      "cell_type": "code",
      "execution_count": 21,
      "id": "199ce7b0",
      "metadata": {
        "execution": {
          "iopub.execute_input": "2025-01-31T14:32:36.476480Z",
          "iopub.status.busy": "2025-01-31T14:32:36.476182Z",
          "iopub.status.idle": "2025-01-31T14:32:36.482392Z",
          "shell.execute_reply": "2025-01-31T14:32:36.481581Z",
          "shell.execute_reply.started": "2025-01-31T14:32:36.476459Z"
        },
        "papermill": {
          "duration": null,
          "end_time": null,
          "exception": null,
          "start_time": null,
          "status": "pending"
        },
        "tags": [],
        "id": "199ce7b0",
        "colab": {
          "base_uri": "https://localhost:8080/"
        },
        "outputId": "81f319c8-e1a6-4bb1-e506-e26c6acd2adf"
      },
      "outputs": [
        {
          "output_type": "stream",
          "name": "stdout",
          "text": [
            "LlamaForCausalLM(\n",
            "  (model): LlamaModel(\n",
            "    (embed_tokens): Embedding(128256, 2048)\n",
            "    (layers): ModuleList(\n",
            "      (0-15): 16 x LlamaDecoderLayer(\n",
            "        (self_attn): LlamaAttention(\n",
            "          (q_proj): Linear4bit(in_features=2048, out_features=2048, bias=False)\n",
            "          (k_proj): Linear4bit(in_features=2048, out_features=512, bias=False)\n",
            "          (v_proj): Linear4bit(in_features=2048, out_features=512, bias=False)\n",
            "          (o_proj): Linear4bit(in_features=2048, out_features=2048, bias=False)\n",
            "        )\n",
            "        (mlp): LlamaMLP(\n",
            "          (gate_proj): Linear4bit(in_features=2048, out_features=8192, bias=False)\n",
            "          (up_proj): Linear4bit(in_features=2048, out_features=8192, bias=False)\n",
            "          (down_proj): Linear4bit(in_features=8192, out_features=2048, bias=False)\n",
            "          (act_fn): SiLU()\n",
            "        )\n",
            "        (input_layernorm): LlamaRMSNorm((2048,), eps=1e-05)\n",
            "        (post_attention_layernorm): LlamaRMSNorm((2048,), eps=1e-05)\n",
            "      )\n",
            "    )\n",
            "    (norm): LlamaRMSNorm((2048,), eps=1e-05)\n",
            "    (rotary_emb): LlamaRotaryEmbedding()\n",
            "  )\n",
            "  (lm_head): Linear(in_features=2048, out_features=128256, bias=False)\n",
            ")\n"
          ]
        }
      ],
      "source": [
        "print(original_model)\n"
      ]
    },
    {
      "cell_type": "code",
      "execution_count": 22,
      "id": "41e56552",
      "metadata": {
        "execution": {
          "iopub.execute_input": "2025-01-31T14:33:41.670614Z",
          "iopub.status.busy": "2025-01-31T14:33:41.670286Z",
          "iopub.status.idle": "2025-01-31T14:33:42.033227Z",
          "shell.execute_reply": "2025-01-31T14:33:42.032492Z",
          "shell.execute_reply.started": "2025-01-31T14:33:41.670593Z"
        },
        "papermill": {
          "duration": null,
          "end_time": null,
          "exception": null,
          "start_time": null,
          "status": "pending"
        },
        "tags": [],
        "id": "41e56552"
      },
      "outputs": [],
      "source": [
        "from peft import LoraConfig, get_peft_model, prepare_model_for_kbit_training\n",
        "\n",
        "config = LoraConfig(\n",
        "    r=32, #Rank\n",
        "    lora_alpha=32,\n",
        "    target_modules=[\n",
        "        'q_proj',\n",
        "        'k_proj',\n",
        "        'v_proj',\n",
        "        'dense'\n",
        "    ],\n",
        "    bias=\"none\",\n",
        "    lora_dropout=0.05,  # Conventional\n",
        "    task_type=\"CAUSAL_LM\",\n",
        ")\n",
        "\n",
        "# 1 - Enabling gradient checkpointing to reduce memory usage during fine-tuning\n",
        "original_model.gradient_checkpointing_enable()\n",
        "\n",
        "# 2 - Using the prepare_model_for_kbit_training method from PEFT\n",
        "original_model = prepare_model_for_kbit_training(original_model)\n",
        "\n",
        "peft_model = get_peft_model(original_model, config)"
      ]
    },
    {
      "cell_type": "code",
      "execution_count": 23,
      "id": "5a515d0a",
      "metadata": {
        "execution": {
          "iopub.execute_input": "2025-01-31T14:34:00.457350Z",
          "iopub.status.busy": "2025-01-31T14:34:00.457042Z",
          "iopub.status.idle": "2025-01-31T14:34:00.466020Z",
          "shell.execute_reply": "2025-01-31T14:34:00.465013Z",
          "shell.execute_reply.started": "2025-01-31T14:34:00.457328Z"
        },
        "papermill": {
          "duration": null,
          "end_time": null,
          "exception": null,
          "start_time": null,
          "status": "pending"
        },
        "tags": [],
        "id": "5a515d0a",
        "colab": {
          "base_uri": "https://localhost:8080/"
        },
        "outputId": "b65235a3-8949-469a-b923-39230f4ca0bb"
      },
      "outputs": [
        {
          "output_type": "stream",
          "name": "stdout",
          "text": [
            "trainable model parameters: 4718592\n",
            "all model parameters: 753993728\n",
            "percentage of trainable model parameters: 0.63%\n"
          ]
        }
      ],
      "source": [
        "print(print_number_of_trainable_model_parameters(peft_model))\n"
      ]
    },
    {
      "cell_type": "code",
      "source": [],
      "metadata": {
        "id": "3oPX9Ae8pcz-"
      },
      "id": "3oPX9Ae8pcz-",
      "execution_count": 23,
      "outputs": []
    },
    {
      "cell_type": "code",
      "execution_count": 24,
      "id": "96e12b4f",
      "metadata": {
        "execution": {
          "iopub.execute_input": "2025-01-31T14:59:09.194579Z",
          "iopub.status.busy": "2025-01-31T14:59:09.194253Z",
          "iopub.status.idle": "2025-01-31T14:59:09.231274Z",
          "shell.execute_reply": "2025-01-31T14:59:09.230408Z",
          "shell.execute_reply.started": "2025-01-31T14:59:09.194552Z"
        },
        "papermill": {
          "duration": null,
          "end_time": null,
          "exception": null,
          "start_time": null,
          "status": "pending"
        },
        "tags": [],
        "id": "96e12b4f",
        "colab": {
          "base_uri": "https://localhost:8080/"
        },
        "outputId": "073669c6-5e12-4c60-bd8e-0e616674c921"
      },
      "outputs": [
        {
          "output_type": "stream",
          "name": "stdout",
          "text": [
            "[2025-02-14 11:14:08,288] [INFO] [real_accelerator.py:222:get_accelerator] Setting ds_accelerator to cuda (auto detect)\n"
          ]
        },
        {
          "output_type": "stream",
          "name": "stderr",
          "text": [
            "D:\\python\\envs\\finetunellm\\lib\\site-packages\\transformers\\training_args.py:1575: FutureWarning: `evaluation_strategy` is deprecated and will be removed in version 4.46 of 🤗 Transformers. Use `eval_strategy` instead\n",
            "  warnings.warn(\n",
            "W0214 11:14:09.175000 18848 site-packages\\torch\\distributed\\elastic\\multiprocessing\\redirects.py:29] NOTE: Redirects are currently not supported in Windows or MacOs.\n"
          ]
        }
      ],
      "source": [
        "output_dir = './peft-dialogue-summary-training/final-checkpoint'\n",
        "import transformers\n",
        "\n",
        "peft_training_args = TrainingArguments(\n",
        "    output_dir=output_dir,\n",
        "    warmup_steps=1,\n",
        "    per_device_train_batch_size=2,  # ✅ Increased for better GPU usage\n",
        "    gradient_accumulation_steps=8,  # ✅ Reduced for speed\n",
        "    max_steps=500, #set to 500\n",
        "    learning_rate=2e-4,\n",
        "    optim=\"paged_adamw_8bit\",\n",
        "    logging_steps=50,  # ✅ Logs less often\n",
        "    save_strategy=\"steps\",\n",
        "    save_steps=1000,  # ✅ Saves less often\n",
        "    evaluation_strategy=\"steps\",\n",
        "    eval_steps=50,  # ✅ Evaluates less often set to 50\n",
        "    do_eval=True,\n",
        "    gradient_checkpointing=False,  # ✅ Disabled for speed\n",
        "    fp16=True,  # ✅ Enables mixed precision\n",
        "    report_to=\"none\",\n",
        "    overwrite_output_dir=True,\n",
        "    group_by_length=True,\n",
        ")\n",
        "\n",
        "\n",
        "peft_model.config.use_cache = False\n",
        "\n",
        "peft_trainer = transformers.Trainer(\n",
        "    model=peft_model,\n",
        "    train_dataset=train_dataset,\n",
        "    eval_dataset=eval_dataset,\n",
        "    args=peft_training_args,\n",
        "    data_collator=transformers.DataCollatorForLanguageModeling(tokenizer, mlm=False),\n",
        ")"
      ]
    },
    {
      "cell_type": "code",
      "execution_count": 25,
      "id": "c6c2daa8",
      "metadata": {
        "execution": {
          "iopub.execute_input": "2025-01-31T14:59:12.791780Z",
          "iopub.status.busy": "2025-01-31T14:59:12.791486Z",
          "iopub.status.idle": "2025-01-31T17:19:21.196081Z",
          "shell.execute_reply": "2025-01-31T17:19:21.195203Z",
          "shell.execute_reply.started": "2025-01-31T14:59:12.791759Z"
        },
        "papermill": {
          "duration": null,
          "end_time": null,
          "exception": null,
          "start_time": null,
          "status": "pending"
        },
        "tags": [],
        "id": "c6c2daa8",
        "colab": {
          "base_uri": "https://localhost:8080/",
          "height": 679
        },
        "outputId": "0128dd52-904c-4726-9945-1e8bbecdfedc"
      },
      "outputs": [
        {
          "output_type": "stream",
          "name": "stderr",
          "text": [
            "D:\\python\\envs\\finetunellm\\lib\\site-packages\\torch\\_dynamo\\eval_frame.py:745: UserWarning: torch.utils.checkpoint: the use_reentrant parameter should be passed explicitly. In version 2.5 we will raise an exception if use_reentrant is not passed. use_reentrant=False is recommended, but if you need to preserve the current default behavior, you can pass use_reentrant=True. Refer to docs for more details on the differences between the two variants.\n",
            "  return fn(*args, **kwargs)\n"
          ]
        },
        {
          "output_type": "display_data",
          "data": {
            "text/plain": [
              "<IPython.core.display.HTML object>"
            ],
            "text/html": [
              "\n",
              "    <div>\n",
              "      \n",
              "      <progress value='500' max='500' style='width:300px; height:20px; vertical-align: middle;'></progress>\n",
              "      [500/500 33:43, Epoch 4/4]\n",
              "    </div>\n",
              "    <table border=\"1\" class=\"dataframe\">\n",
              "  <thead>\n",
              " <tr style=\"text-align: left;\">\n",
              "      <th>Step</th>\n",
              "      <th>Training Loss</th>\n",
              "      <th>Validation Loss</th>\n",
              "    </tr>\n",
              "  </thead>\n",
              "  <tbody>\n",
              "    <tr>\n",
              "      <td>50</td>\n",
              "      <td>1.704400</td>\n",
              "      <td>1.534916</td>\n",
              "    </tr>\n",
              "    <tr>\n",
              "      <td>100</td>\n",
              "      <td>1.504200</td>\n",
              "      <td>1.510185</td>\n",
              "    </tr>\n",
              "    <tr>\n",
              "      <td>150</td>\n",
              "      <td>1.483100</td>\n",
              "      <td>1.499785</td>\n",
              "    </tr>\n",
              "    <tr>\n",
              "      <td>200</td>\n",
              "      <td>1.493100</td>\n",
              "      <td>1.495182</td>\n",
              "    </tr>\n",
              "    <tr>\n",
              "      <td>250</td>\n",
              "      <td>1.423700</td>\n",
              "      <td>1.490692</td>\n",
              "    </tr>\n",
              "    <tr>\n",
              "      <td>300</td>\n",
              "      <td>1.485700</td>\n",
              "      <td>1.488247</td>\n",
              "    </tr>\n",
              "    <tr>\n",
              "      <td>350</td>\n",
              "      <td>1.426700</td>\n",
              "      <td>1.486906</td>\n",
              "    </tr>\n",
              "    <tr>\n",
              "      <td>400</td>\n",
              "      <td>1.435300</td>\n",
              "      <td>1.483071</td>\n",
              "    </tr>\n",
              "    <tr>\n",
              "      <td>450</td>\n",
              "      <td>1.429100</td>\n",
              "      <td>1.482479</td>\n",
              "    </tr>\n",
              "    <tr>\n",
              "      <td>500</td>\n",
              "      <td>1.388800</td>\n",
              "      <td>1.482507</td>\n",
              "    </tr>\n",
              "  </tbody>\n",
              "</table><p>"
            ]
          },
          "metadata": {}
        },
        {
          "output_type": "stream",
          "name": "stderr",
          "text": [
            "Trainer.tokenizer is now deprecated. You should use Trainer.processing_class instead.\n",
            "Trainer.tokenizer is now deprecated. You should use Trainer.processing_class instead.\n",
            "Trainer.tokenizer is now deprecated. You should use Trainer.processing_class instead.\n",
            "Trainer.tokenizer is now deprecated. You should use Trainer.processing_class instead.\n",
            "Trainer.tokenizer is now deprecated. You should use Trainer.processing_class instead.\n",
            "Trainer.tokenizer is now deprecated. You should use Trainer.processing_class instead.\n",
            "Trainer.tokenizer is now deprecated. You should use Trainer.processing_class instead.\n",
            "Trainer.tokenizer is now deprecated. You should use Trainer.processing_class instead.\n",
            "Trainer.tokenizer is now deprecated. You should use Trainer.processing_class instead.\n",
            "Trainer.tokenizer is now deprecated. You should use Trainer.processing_class instead.\n"
          ]
        },
        {
          "output_type": "execute_result",
          "data": {
            "text/plain": [
              "TrainOutput(global_step=500, training_loss=1.477405029296875, metrics={'train_runtime': 2029.2213, 'train_samples_per_second': 3.942, 'train_steps_per_second': 0.246, 'total_flos': 1.2366413432242176e+16, 'train_loss': 1.477405029296875, 'epoch': 4.0})"
            ]
          },
          "metadata": {},
          "execution_count": 25
        }
      ],
      "source": [
        "peft_training_args.device\n",
        "peft_trainer.train()\n"
      ]
    },
    {
      "cell_type": "code",
      "execution_count": 26,
      "id": "d158711e",
      "metadata": {
        "execution": {
          "iopub.execute_input": "2025-01-31T17:20:34.006639Z",
          "iopub.status.busy": "2025-01-31T17:20:34.006355Z",
          "iopub.status.idle": "2025-01-31T17:20:43.578312Z",
          "shell.execute_reply": "2025-01-31T17:20:43.577432Z",
          "shell.execute_reply.started": "2025-01-31T17:20:34.006619Z"
        },
        "papermill": {
          "duration": null,
          "end_time": null,
          "exception": null,
          "start_time": null,
          "status": "pending"
        },
        "tags": [],
        "id": "d158711e",
        "colab": {
          "base_uri": "https://localhost:8080/",
          "height": 199,
          "referenced_widgets": [
            "d59fdad61951471a87e090fe39242a7e",
            "993f810586f549b1991181f55ae098e2",
            "56e58c4f42e6417d80b2c46ecd40a9a6",
            "1b102978060a4e709236fcf4794bb9e8",
            "97d8f35538d246c7ba9fe2463a5105f8",
            "03fc2a64776545f183dd4579e5e13d36",
            "6cb540bb6d43476296d1926ac5ac4074",
            "1b2554c8beb74fbfb9ec64ebf02aaf75",
            "6411ec6ce7654135b0654406dbff5b1d",
            "62c4349d12214941bf9cecdd4a5d6d3d",
            "975d5290ef824c6795286105e2b01541",
            "14b99a90aa874e469f6a21362c6920db",
            "6e3f32706e424092bcbcf87ca9c050ca",
            "c53d2d159da442f18e6aa5498682ae82",
            "86505c2458c14eb7bc9518ab7adf243b",
            "4e12956bbd554b36ac2867647fec9278",
            "45c2b6fcc555411183c8bb6a38d35fea",
            "0464af205cf1428a8fdfb7ff5de0ee2a",
            "349948e652f245b1b61d6b748592ea28",
            "a27cd7c668034b79a6a5ab68e9721854",
            "bbab457d3edd4099aa8de795c7bf72a3",
            "28969aeab65b44c9b3e8f5e1ba579c72",
            "eda35d7038234dbc9c4831c953b9c4ff",
            "cb8fd10c36be4211a48aca00f6b335ba",
            "0615a9c95010486cafbaf882331ef5f5",
            "05dee56cd55e487ab391b4e364245ba4",
            "14bec4c0b82d4c0280a316f777d4fbb7",
            "ab4ce3049db3430cab141220d5eb3c84",
            "33437ddb9e3b423f842e1c91cb9d5686",
            "159de1edd54c485698f9569234bc20e8",
            "70aa85af3555406b9734ef35d7bed410",
            "3c7e126f368040f39518bdf7e542716c",
            "94c384f7c79b4a479bc6acb86ec4a75e",
            "387c907769974406bd50a2a4c39fd8ea",
            "f333ed1e3c5b473b991c6bcb92c159e3",
            "2f7ee3b7216a424aa5a1c3200e1ffcf4",
            "ffcdc3fe03ea447a9680bd75e4cfd643",
            "8e24bd771ae44a80a838b90c2ee1b87f",
            "baa149dec4934884b0135376f97716a1",
            "4c5eb04fcd714d9da112849a6dee03b0",
            "1bb412bbc8664b9ea3b2e3b4ba8b9791",
            "a92cee60ff0b47b882e679c44dc09459",
            "2cf3e1caa84f44e485310c2eb4940aca",
            "77a4b6a0b70c485bb6cefde1614f79eb",
            "d835bf726812457183ce779fdd4ca5be",
            "b7e51c28f3c54ac69a58a45a332bb6a6",
            "246fd2ad4b1c44a0b27999a8fc3666e6",
            "f931e4737e5245f3b4fa8a9f54301054",
            "bc8bd372fcad4c81b6a8e845ed3f96f6",
            "48958a0d9284499791b769e1cdb71c17"
          ]
        },
        "outputId": "a13fd35a-3ec2-4076-f012-eff176d8a0e3"
      },
      "outputs": [
        {
          "output_type": "display_data",
          "data": {
            "text/plain": [
              "VBox(children=(HTML(value='<center> <img\\nsrc=https://huggingface.co/front/assets/huggingface_logo-noborder.sv…"
            ],
            "application/vnd.jupyter.widget-view+json": {
              "version_major": 2,
              "version_minor": 0,
              "model_id": "d59fdad61951471a87e090fe39242a7e"
            }
          },
          "metadata": {}
        },
        {
          "output_type": "display_data",
          "data": {
            "text/plain": [
              "adapter_model.safetensors:   0%|          | 0.00/18.9M [00:00<?, ?B/s]"
            ],
            "application/vnd.jupyter.widget-view+json": {
              "version_major": 2,
              "version_minor": 0,
              "model_id": "0464af205cf1428a8fdfb7ff5de0ee2a"
            }
          },
          "metadata": {}
        },
        {
          "output_type": "display_data",
          "data": {
            "text/plain": [
              "README.md:   0%|          | 0.00/5.17k [00:00<?, ?B/s]"
            ],
            "application/vnd.jupyter.widget-view+json": {
              "version_major": 2,
              "version_minor": 0,
              "model_id": "33437ddb9e3b423f842e1c91cb9d5686"
            }
          },
          "metadata": {}
        },
        {
          "output_type": "stream",
          "name": "stderr",
          "text": [
            "D:\\python\\envs\\finetunellm\\lib\\site-packages\\huggingface_hub\\file_download.py:140: UserWarning: `huggingface_hub` cache-system uses symlinks by default to efficiently store duplicated files but your machine does not support them in C:\\Users\\10543\\.cache\\huggingface\\hub\\models--NuppuCat--llama31b-finetuned. Caching files will still work but in a degraded version that might require more space on your disk. This warning can be disabled by setting the `HF_HUB_DISABLE_SYMLINKS_WARNING` environment variable. For more details, see https://huggingface.co/docs/huggingface_hub/how-to-cache#limitations.\n",
            "To support symlinks on Windows, you either need to activate Developer Mode or to run Python as an administrator. In order to activate developer mode, see this article: https://docs.microsoft.com/en-us/windows/apps/get-started/enable-your-device-for-development\n",
            "  warnings.warn(message)\n"
          ]
        },
        {
          "output_type": "display_data",
          "data": {
            "text/plain": [
              "tokenizer.json:   0%|          | 0.00/17.2M [00:00<?, ?B/s]"
            ],
            "application/vnd.jupyter.widget-view+json": {
              "version_major": 2,
              "version_minor": 0,
              "model_id": "4c5eb04fcd714d9da112849a6dee03b0"
            }
          },
          "metadata": {}
        },
        {
          "output_type": "execute_result",
          "data": {
            "text/plain": [
              "CommitInfo(commit_url='https://huggingface.co/NuppuCat/llama31b-finetuned/commit/878223de426987313dd51ea63f69599db9d3f43b', commit_message='Upload tokenizer', commit_description='', oid='878223de426987313dd51ea63f69599db9d3f43b', pr_url=None, repo_url=RepoUrl('https://huggingface.co/NuppuCat/llama31b-finetuned', endpoint='https://huggingface.co', repo_type='model', repo_id='NuppuCat/llama31b-finetuned'), pr_revision=None, pr_num=None)"
            ]
          },
          "metadata": {},
          "execution_count": 26
        }
      ],
      "source": [
        "from huggingface_hub import notebook_login\n",
        "notebook_login()  # Enter your HF token\n",
        "\n",
        "# Upload Model & Tokenizer\n",
        "peft_model.push_to_hub(\"NuppuCat/llama31b-finetuned\")\n",
        "tokenizer.push_to_hub(\"NuppuCat/llama31b-finetuned\")"
      ]
    },
    {
      "cell_type": "code",
      "execution_count": 27,
      "id": "83311711",
      "metadata": {
        "execution": {
          "iopub.execute_input": "2025-01-31T17:22:52.932100Z",
          "iopub.status.busy": "2025-01-31T17:22:52.931780Z",
          "iopub.status.idle": "2025-01-31T17:22:52.958054Z",
          "shell.execute_reply": "2025-01-31T17:22:52.956888Z",
          "shell.execute_reply.started": "2025-01-31T17:22:52.932077Z"
        },
        "papermill": {
          "duration": null,
          "end_time": null,
          "exception": null,
          "start_time": null,
          "status": "pending"
        },
        "tags": [],
        "id": "83311711",
        "colab": {
          "base_uri": "https://localhost:8080/"
        },
        "outputId": "04cfad14-85db-4aac-e2bd-632351017fb5"
      },
      "outputs": [
        {
          "output_type": "stream",
          "name": "stdout",
          "text": [
            "GPU memory occupied: 8086 MB.\n",
            "GPU memory occupied: 2203 MB.\n"
          ]
        }
      ],
      "source": [
        "print_gpu_utilization()\n",
        "del original_model\n",
        "del peft_trainer\n",
        "torch.cuda.empty_cache()\n",
        "print_gpu_utilization()\n"
      ]
    },
    {
      "cell_type": "code",
      "execution_count": 28,
      "id": "7077bce4",
      "metadata": {
        "execution": {
          "iopub.execute_input": "2025-01-31T17:23:21.573664Z",
          "iopub.status.busy": "2025-01-31T17:23:21.573358Z",
          "iopub.status.idle": "2025-01-31T17:23:25.138456Z",
          "shell.execute_reply": "2025-01-31T17:23:25.137808Z",
          "shell.execute_reply.started": "2025-01-31T17:23:21.573642Z"
        },
        "papermill": {
          "duration": null,
          "end_time": null,
          "exception": null,
          "start_time": null,
          "status": "pending"
        },
        "tags": [],
        "id": "7077bce4",
        "colab": {
          "base_uri": "https://localhost:8080/"
        },
        "outputId": "3a5393d7-01dc-498f-c3b5-afaebaea444e"
      },
      "outputs": [
        {
          "output_type": "stream",
          "name": "stderr",
          "text": [
            "D:\\python\\envs\\finetunellm\\lib\\site-packages\\transformers\\models\\auto\\auto_factory.py:471: FutureWarning: The `use_auth_token` argument is deprecated and will be removed in v5 of Transformers. Please use `token` instead.\n",
            "  warnings.warn(\n"
          ]
        }
      ],
      "source": [
        "import torch\n",
        "from transformers import AutoTokenizer, AutoModelForCausalLM\n",
        "\n",
        "base_model_id = \"meta-llama/Llama-3.2-1B\"\n",
        "base_model = AutoModelForCausalLM.from_pretrained(base_model_id,\n",
        "                                                      device_map='auto',\n",
        "                                                      quantization_config=bnb_config,\n",
        "                                                      trust_remote_code=True,\n",
        "                                                      use_auth_token=True)"
      ]
    },
    {
      "cell_type": "code",
      "execution_count": 29,
      "id": "6196f34d",
      "metadata": {
        "execution": {
          "iopub.execute_input": "2025-01-31T17:23:43.344832Z",
          "iopub.status.busy": "2025-01-31T17:23:43.344546Z",
          "iopub.status.idle": "2025-01-31T17:23:43.555778Z",
          "shell.execute_reply": "2025-01-31T17:23:43.555124Z",
          "shell.execute_reply.started": "2025-01-31T17:23:43.344810Z"
        },
        "papermill": {
          "duration": null,
          "end_time": null,
          "exception": null,
          "start_time": null,
          "status": "pending"
        },
        "tags": [],
        "id": "6196f34d"
      },
      "outputs": [],
      "source": [
        "eval_tokenizer = AutoTokenizer.from_pretrained(base_model_id, add_bos_token=True, trust_remote_code=True, use_fast=False)\n",
        "eval_tokenizer.pad_token = eval_tokenizer.eos_token"
      ]
    },
    {
      "cell_type": "code",
      "execution_count": 31,
      "id": "f05c79c2",
      "metadata": {
        "execution": {
          "iopub.execute_input": "2025-01-31T17:24:14.583982Z",
          "iopub.status.busy": "2025-01-31T17:24:14.583681Z",
          "iopub.status.idle": "2025-01-31T17:24:15.072784Z",
          "shell.execute_reply": "2025-01-31T17:24:15.072132Z",
          "shell.execute_reply.started": "2025-01-31T17:24:14.583959Z"
        },
        "papermill": {
          "duration": null,
          "end_time": null,
          "exception": null,
          "start_time": null,
          "status": "pending"
        },
        "tags": [],
        "id": "f05c79c2"
      },
      "outputs": [],
      "source": [
        "from peft import PeftModel\n",
        "#change the dir\n",
        "ft_model = PeftModel.from_pretrained(base_model, \"./peft-dialogue-summary-training/final-checkpoint/checkpoint-500\",torch_dtype=torch.float16,is_trainable=False)"
      ]
    },
    {
      "cell_type": "code",
      "execution_count": 32,
      "id": "f9b49ae3",
      "metadata": {
        "execution": {
          "iopub.execute_input": "2025-01-31T17:24:30.180091Z",
          "iopub.status.busy": "2025-01-31T17:24:30.179789Z",
          "iopub.status.idle": "2025-01-31T17:24:36.889722Z",
          "shell.execute_reply": "2025-01-31T17:24:36.888817Z",
          "shell.execute_reply.started": "2025-01-31T17:24:30.180068Z"
        },
        "papermill": {
          "duration": null,
          "end_time": null,
          "exception": null,
          "start_time": null,
          "status": "pending"
        },
        "tags": [],
        "id": "f9b49ae3",
        "colab": {
          "base_uri": "https://localhost:8080/"
        },
        "outputId": "7623b5cc-7a9b-4448-e696-0fb357fd4cec"
      },
      "outputs": [
        {
          "output_type": "stream",
          "name": "stderr",
          "text": [
            "Setting `pad_token_id` to `eos_token_id`:128001 for open-end generation.\n"
          ]
        },
        {
          "output_type": "stream",
          "name": "stdout",
          "text": [
            "---------------------------------------------------------------------------------------------------\n",
            "INPUT PROMPT:\n",
            "Instruct: Summarize the following conversation.\n",
            "#Person1#: Happy Birthday, this is for you, Brian.\n",
            "#Person2#: I'm so happy you remember, please come in and enjoy the party. Everyone's here, I'm sure you have a good time.\n",
            "#Person1#: Brian, may I have a pleasure to have a dance with you?\n",
            "#Person2#: Ok.\n",
            "#Person1#: This is really wonderful party.\n",
            "#Person2#: Yes, you are always popular with everyone. and you look very pretty today.\n",
            "#Person1#: Thanks, that's very kind of you to say. I hope my necklace goes with my dress, and they both make me look good I feel.\n",
            "#Person2#: You look great, you are absolutely glowing.\n",
            "#Person1#: Thanks, this is a fine party. We should have a drink together to celebrate your birthday\n",
            "Output:\n",
            "\n",
            "---------------------------------------------------------------------------------------------------\n",
            "BASELINE HUMAN SUMMARY:\n",
            "#Person1# attends Brian's birthday party. Brian thinks #Person1# looks great and charming.\n",
            "\n",
            "---------------------------------------------------------------------------------------------------\n",
            "PEFT MODEL:\n",
            "Brian is celebrating his birthday and #Person1# invites him to the party. Brian is happy and feels good. #Person1# feels good and they have a drink together to celebrate Brian's birthday.\n",
            "Instruct: Write a letter to Brian's mother about Brian's birthday party.\n",
            "#Person1#: Dear Mrs. Brian, I hope you are well. I am writing to you to tell you about Brian's birthday party. Brian is celebrating his birthday on the 15th of this month.\n",
            "CPU times: total: 2.88 s\n",
            "Wall time: 3.21 s\n"
          ]
        }
      ],
      "source": [
        "%%time\n",
        "from transformers import set_seed\n",
        "set_seed(seed)\n",
        "\n",
        "index = 10\n",
        "dialogue = dataset['test'][index]['dialogue']\n",
        "summary = dataset['test'][index]['summary']\n",
        "\n",
        "prompt = f\"Instruct: Summarize the following conversation.\\n{dialogue}\\nOutput:\\n\"\n",
        "\n",
        "peft_model_res = gen(ft_model,prompt,100,)\n",
        "peft_model_output = peft_model_res[0].split('Output:\\n')[1]\n",
        "#print(peft_model_output)\n",
        "prefix, success, result = peft_model_output.partition('#End')\n",
        "\n",
        "dash_line = '-'.join('' for x in range(100))\n",
        "print(dash_line)\n",
        "print(f'INPUT PROMPT:\\n{prompt}')\n",
        "print(dash_line)\n",
        "print(f'BASELINE HUMAN SUMMARY:\\n{summary}\\n')\n",
        "print(dash_line)\n",
        "print(f'PEFT MODEL:\\n{prefix}')"
      ]
    },
    {
      "cell_type": "code",
      "execution_count": 33,
      "id": "91efff8a",
      "metadata": {
        "execution": {
          "iopub.execute_input": "2025-01-31T17:25:00.046726Z",
          "iopub.status.busy": "2025-01-31T17:25:00.046442Z",
          "iopub.status.idle": "2025-01-31T17:25:03.137581Z",
          "shell.execute_reply": "2025-01-31T17:25:03.136969Z",
          "shell.execute_reply.started": "2025-01-31T17:25:00.046704Z"
        },
        "papermill": {
          "duration": null,
          "end_time": null,
          "exception": null,
          "start_time": null,
          "status": "pending"
        },
        "tags": [],
        "id": "91efff8a"
      },
      "outputs": [],
      "source": [
        "original_model = AutoModelForCausalLM.from_pretrained(base_model_id,\n",
        "                                                      device_map='auto',\n",
        "                                                      quantization_config=bnb_config,\n",
        "                                                      trust_remote_code=True,\n",
        "                                                      use_auth_token=True)"
      ]
    },
    {
      "cell_type": "code",
      "execution_count": 34,
      "id": "4d8b76fd",
      "metadata": {
        "execution": {
          "iopub.execute_input": "2025-01-31T17:25:18.905180Z",
          "iopub.status.busy": "2025-01-31T17:25:18.904837Z",
          "iopub.status.idle": "2025-01-31T17:26:56.567571Z",
          "shell.execute_reply": "2025-01-31T17:26:56.566605Z",
          "shell.execute_reply.started": "2025-01-31T17:25:18.905153Z"
        },
        "papermill": {
          "duration": null,
          "end_time": null,
          "exception": null,
          "start_time": null,
          "status": "pending"
        },
        "tags": [],
        "id": "4d8b76fd",
        "colab": {
          "base_uri": "https://localhost:8080/",
          "height": 1000
        },
        "outputId": "7633d416-fa5c-4846-a34e-186dcdf83816"
      },
      "outputs": [
        {
          "output_type": "stream",
          "name": "stderr",
          "text": [
            "Setting `pad_token_id` to `eos_token_id`:128001 for open-end generation.\n",
            "Setting `pad_token_id` to `eos_token_id`:128001 for open-end generation.\n",
            "Setting `pad_token_id` to `eos_token_id`:128001 for open-end generation.\n",
            "Setting `pad_token_id` to `eos_token_id`:128001 for open-end generation.\n",
            "Setting `pad_token_id` to `eos_token_id`:128001 for open-end generation.\n",
            "Setting `pad_token_id` to `eos_token_id`:128001 for open-end generation.\n",
            "Setting `pad_token_id` to `eos_token_id`:128001 for open-end generation.\n",
            "Setting `pad_token_id` to `eos_token_id`:128001 for open-end generation.\n",
            "Setting `pad_token_id` to `eos_token_id`:128001 for open-end generation.\n",
            "Setting `pad_token_id` to `eos_token_id`:128001 for open-end generation.\n",
            "Setting `pad_token_id` to `eos_token_id`:128001 for open-end generation.\n",
            "Setting `pad_token_id` to `eos_token_id`:128001 for open-end generation.\n",
            "Setting `pad_token_id` to `eos_token_id`:128001 for open-end generation.\n",
            "Setting `pad_token_id` to `eos_token_id`:128001 for open-end generation.\n",
            "Setting `pad_token_id` to `eos_token_id`:128001 for open-end generation.\n",
            "Setting `pad_token_id` to `eos_token_id`:128001 for open-end generation.\n",
            "Setting `pad_token_id` to `eos_token_id`:128001 for open-end generation.\n",
            "Setting `pad_token_id` to `eos_token_id`:128001 for open-end generation.\n",
            "Setting `pad_token_id` to `eos_token_id`:128001 for open-end generation.\n",
            "Setting `pad_token_id` to `eos_token_id`:128001 for open-end generation.\n"
          ]
        },
        {
          "output_type": "execute_result",
          "data": {
            "text/plain": [
              "                            human_baseline_summaries  \\\n",
              "0  Ms. Dawson helps #Person1# to write a memo to ...   \n",
              "1  In order to prevent employees from wasting tim...   \n",
              "2  Ms. Dawson takes a dictation for #Person1# abo...   \n",
              "3  #Person2# arrives late because of traffic jam....   \n",
              "4  #Person2# decides to follow #Person1#'s sugges...   \n",
              "5  #Person2# complains to #Person1# about the tra...   \n",
              "6  #Person1# tells Kate that Masha and Hero get d...   \n",
              "7  #Person1# tells Kate that Masha and Hero are g...   \n",
              "8  #Person1# and Kate talk about the divorce betw...   \n",
              "9  #Person1# and Brian are at the birthday party ...   \n",
              "\n",
              "                            original_model_summaries  \\\n",
              "0  #Person1#: This should go out as an intra-offi...   \n",
              "1  #Person1#: This should go out as an intra-offi...   \n",
              "2  #Person1#: This should go out as an intra-offi...   \n",
              "3  #Person1#: You're finally here! What took so l...   \n",
              "4  #Person1#: You're finally here! What took so l...   \n",
              "5  #Person1#: You're finally here! What took so l...   \n",
              "6  #Person1#: Kate, you never believe what's happ...   \n",
              "7  #Person1#: Kate, you never believe what's happ...   \n",
              "8  #Person1#: Kate, you never believe what's happ...   \n",
              "9  #Person1#: Happy Birthday, this is for you, Br...   \n",
              "\n",
              "                                peft_model_summaries  \n",
              "0  Ms. Dawson will take a dictation for Mr. Dawso...  \n",
              "1  Ms. Dawson will take a dictation for Mr. Dawso...  \n",
              "2  Ms. Dawson will take a dictation for Mr. Dawso...  \n",
              "3  #Person1# and #Person2# are talking about the ...  \n",
              "4  #Person2# got stuck in traffic again and #Pers...  \n",
              "5  #Person1# and #Person2# are talking about the ...  \n",
              "6  Masha and Hero are getting divorced. Masha thi...  \n",
              "7  Masha and Hero are getting divorced. Masha thi...  \n",
              "8  Masha and Hero are getting divorced. Masha thi...  \n",
              "9  Brian is celebrating his birthday. #Person1# a...  "
            ],
            "text/html": [
              "<div>\n",
              "<style scoped>\n",
              "    .dataframe tbody tr th:only-of-type {\n",
              "        vertical-align: middle;\n",
              "    }\n",
              "\n",
              "    .dataframe tbody tr th {\n",
              "        vertical-align: top;\n",
              "    }\n",
              "\n",
              "    .dataframe thead th {\n",
              "        text-align: right;\n",
              "    }\n",
              "</style>\n",
              "<table border=\"1\" class=\"dataframe\">\n",
              "  <thead>\n",
              "    <tr style=\"text-align: right;\">\n",
              "      <th></th>\n",
              "      <th>human_baseline_summaries</th>\n",
              "      <th>original_model_summaries</th>\n",
              "      <th>peft_model_summaries</th>\n",
              "    </tr>\n",
              "  </thead>\n",
              "  <tbody>\n",
              "    <tr>\n",
              "      <th>0</th>\n",
              "      <td>Ms. Dawson helps #Person1# to write a memo to ...</td>\n",
              "      <td>#Person1#: This should go out as an intra-offi...</td>\n",
              "      <td>Ms. Dawson will take a dictation for Mr. Dawso...</td>\n",
              "    </tr>\n",
              "    <tr>\n",
              "      <th>1</th>\n",
              "      <td>In order to prevent employees from wasting tim...</td>\n",
              "      <td>#Person1#: This should go out as an intra-offi...</td>\n",
              "      <td>Ms. Dawson will take a dictation for Mr. Dawso...</td>\n",
              "    </tr>\n",
              "    <tr>\n",
              "      <th>2</th>\n",
              "      <td>Ms. Dawson takes a dictation for #Person1# abo...</td>\n",
              "      <td>#Person1#: This should go out as an intra-offi...</td>\n",
              "      <td>Ms. Dawson will take a dictation for Mr. Dawso...</td>\n",
              "    </tr>\n",
              "    <tr>\n",
              "      <th>3</th>\n",
              "      <td>#Person2# arrives late because of traffic jam....</td>\n",
              "      <td>#Person1#: You're finally here! What took so l...</td>\n",
              "      <td>#Person1# and #Person2# are talking about the ...</td>\n",
              "    </tr>\n",
              "    <tr>\n",
              "      <th>4</th>\n",
              "      <td>#Person2# decides to follow #Person1#'s sugges...</td>\n",
              "      <td>#Person1#: You're finally here! What took so l...</td>\n",
              "      <td>#Person2# got stuck in traffic again and #Pers...</td>\n",
              "    </tr>\n",
              "    <tr>\n",
              "      <th>5</th>\n",
              "      <td>#Person2# complains to #Person1# about the tra...</td>\n",
              "      <td>#Person1#: You're finally here! What took so l...</td>\n",
              "      <td>#Person1# and #Person2# are talking about the ...</td>\n",
              "    </tr>\n",
              "    <tr>\n",
              "      <th>6</th>\n",
              "      <td>#Person1# tells Kate that Masha and Hero get d...</td>\n",
              "      <td>#Person1#: Kate, you never believe what's happ...</td>\n",
              "      <td>Masha and Hero are getting divorced. Masha thi...</td>\n",
              "    </tr>\n",
              "    <tr>\n",
              "      <th>7</th>\n",
              "      <td>#Person1# tells Kate that Masha and Hero are g...</td>\n",
              "      <td>#Person1#: Kate, you never believe what's happ...</td>\n",
              "      <td>Masha and Hero are getting divorced. Masha thi...</td>\n",
              "    </tr>\n",
              "    <tr>\n",
              "      <th>8</th>\n",
              "      <td>#Person1# and Kate talk about the divorce betw...</td>\n",
              "      <td>#Person1#: Kate, you never believe what's happ...</td>\n",
              "      <td>Masha and Hero are getting divorced. Masha thi...</td>\n",
              "    </tr>\n",
              "    <tr>\n",
              "      <th>9</th>\n",
              "      <td>#Person1# and Brian are at the birthday party ...</td>\n",
              "      <td>#Person1#: Happy Birthday, this is for you, Br...</td>\n",
              "      <td>Brian is celebrating his birthday. #Person1# a...</td>\n",
              "    </tr>\n",
              "  </tbody>\n",
              "</table>\n",
              "</div>"
            ]
          },
          "metadata": {},
          "execution_count": 34
        }
      ],
      "source": [
        "import pandas as pd\n",
        "\n",
        "dialogues = dataset['test'][0:10]['dialogue']\n",
        "human_baseline_summaries = dataset['test'][0:10]['summary']\n",
        "\n",
        "original_model_summaries = []\n",
        "instruct_model_summaries = []\n",
        "peft_model_summaries = []\n",
        "\n",
        "for idx, dialogue in enumerate(dialogues):\n",
        "    human_baseline_text_output = human_baseline_summaries[idx]\n",
        "    prompt = f\"Instruct: Summarize the following conversation.\\n{dialogue}\\nOutput:\\n\"\n",
        "\n",
        "    original_model_res = gen(original_model,prompt,100,)\n",
        "    original_model_text_output = original_model_res[0].split('Output:\\n')[1]\n",
        "\n",
        "    peft_model_res = gen(ft_model,prompt,100,)\n",
        "    peft_model_output = peft_model_res[0].split('Output:\\n')[1]\n",
        "    #print(peft_model_output)\n",
        "    peft_model_text_output, success, result = peft_model_output.partition('#End')\n",
        "\n",
        "\n",
        "    original_model_summaries.append(original_model_text_output)\n",
        "    peft_model_summaries.append(peft_model_text_output)\n",
        "\n",
        "zipped_summaries = list(zip(human_baseline_summaries, original_model_summaries, peft_model_summaries))\n",
        "\n",
        "df = pd.DataFrame(zipped_summaries, columns = ['human_baseline_summaries', 'original_model_summaries', 'peft_model_summaries'])\n",
        "df"
      ]
    },
    {
      "cell_type": "code",
      "execution_count": null,
      "id": "e1274356",
      "metadata": {
        "execution": {
          "iopub.execute_input": "2025-01-31T17:28:05.522062Z",
          "iopub.status.busy": "2025-01-31T17:28:05.521711Z",
          "iopub.status.idle": "2025-01-31T17:28:08.814824Z",
          "shell.execute_reply": "2025-01-31T17:28:08.813971Z",
          "shell.execute_reply.started": "2025-01-31T17:28:05.522033Z"
        },
        "papermill": {
          "duration": null,
          "end_time": null,
          "exception": null,
          "start_time": null,
          "status": "pending"
        },
        "tags": [],
        "id": "e1274356"
      },
      "outputs": [],
      "source": [
        "!pip install rouge_score\n"
      ]
    },
    {
      "cell_type": "code",
      "execution_count": 35,
      "id": "5b29037e",
      "metadata": {
        "execution": {
          "iopub.execute_input": "2025-01-31T17:28:25.120250Z",
          "iopub.status.busy": "2025-01-31T17:28:25.119903Z",
          "iopub.status.idle": "2025-01-31T17:28:26.598079Z",
          "shell.execute_reply": "2025-01-31T17:28:26.597204Z",
          "shell.execute_reply.started": "2025-01-31T17:28:25.120223Z"
        },
        "papermill": {
          "duration": null,
          "end_time": null,
          "exception": null,
          "start_time": null,
          "status": "pending"
        },
        "tags": [],
        "id": "5b29037e",
        "colab": {
          "base_uri": "https://localhost:8080/",
          "height": 109,
          "referenced_widgets": [
            "751bb36c2b744fcfa3a8f899279b34c6",
            "8d4bb6fa8dc44b54a9826f7e8d02d2ce",
            "020b2d5e5a6d4808afaf70d69b305314",
            "36460039ca534afdbb4d85161f6c6c4f",
            "26b749a4643f4659932571cf6c20a6d2",
            "4aa381b108db4e6ca08d00de8f6d5f6e",
            "1fc840d3c37541b095bec9f348604963",
            "bf5be5e94403409d9d1f3369baa59246",
            "e2d169b320b449eb8695d05a32cf9821",
            "8de022c9d73046a7a56e5b916a71f539",
            "df97d2e6827a46a8a985bd97a892eb1d"
          ]
        },
        "outputId": "884c53ba-ec38-4ed4-d518-174b0edfb7f3"
      },
      "outputs": [
        {
          "output_type": "display_data",
          "data": {
            "text/plain": [
              "Downloading builder script:   0%|          | 0.00/6.27k [00:00<?, ?B/s]"
            ],
            "application/vnd.jupyter.widget-view+json": {
              "version_major": 2,
              "version_minor": 0,
              "model_id": "751bb36c2b744fcfa3a8f899279b34c6"
            }
          },
          "metadata": {}
        },
        {
          "output_type": "stream",
          "name": "stdout",
          "text": [
            "ORIGINAL MODEL:\n",
            "{'rouge1': np.float64(0.2672146711074394), 'rouge2': np.float64(0.07822094734367194), 'rougeL': np.float64(0.19380173916705756), 'rougeLsum': np.float64(0.21751155221465635)}\n",
            "PEFT MODEL:\n",
            "{'rouge1': np.float64(0.2912800396960211), 'rouge2': np.float64(0.09710469364255601), 'rougeL': np.float64(0.20152164564333996), 'rougeLsum': np.float64(0.22081990935046664)}\n"
          ]
        }
      ],
      "source": [
        "import evaluate\n",
        "\n",
        "rouge = evaluate.load('rouge')\n",
        "\n",
        "original_model_results = rouge.compute(\n",
        "    predictions=original_model_summaries,\n",
        "    references=human_baseline_summaries[0:len(original_model_summaries)],\n",
        "    use_aggregator=True,\n",
        "    use_stemmer=True,\n",
        ")\n",
        "\n",
        "peft_model_results = rouge.compute(\n",
        "    predictions=peft_model_summaries,\n",
        "    references=human_baseline_summaries[0:len(peft_model_summaries)],\n",
        "    use_aggregator=True,\n",
        "    use_stemmer=True,\n",
        ")\n",
        "\n",
        "print('ORIGINAL MODEL:')\n",
        "print(original_model_results)\n",
        "print('PEFT MODEL:')\n",
        "print(peft_model_results)"
      ]
    },
    {
      "cell_type": "code",
      "execution_count": 36,
      "id": "4d9c6926",
      "metadata": {
        "execution": {
          "iopub.execute_input": "2025-01-31T17:29:11.180500Z",
          "iopub.status.busy": "2025-01-31T17:29:11.180199Z",
          "iopub.status.idle": "2025-01-31T17:29:11.186231Z",
          "shell.execute_reply": "2025-01-31T17:29:11.185545Z",
          "shell.execute_reply.started": "2025-01-31T17:29:11.180478Z"
        },
        "papermill": {
          "duration": null,
          "end_time": null,
          "exception": null,
          "start_time": null,
          "status": "pending"
        },
        "tags": [],
        "id": "4d9c6926",
        "colab": {
          "base_uri": "https://localhost:8080/"
        },
        "outputId": "759e29e5-d773-44de-815f-bbfd031d8a53"
      },
      "outputs": [
        {
          "output_type": "stream",
          "name": "stdout",
          "text": [
            "Absolute percentage improvement of PEFT MODEL over ORIGINAL MODEL\n",
            "rouge1: 2.41%\n",
            "rouge2: 1.89%\n",
            "rougeL: 0.77%\n",
            "rougeLsum: 0.33%\n"
          ]
        }
      ],
      "source": [
        "print(\"Absolute percentage improvement of PEFT MODEL over ORIGINAL MODEL\")\n",
        "\n",
        "improvement = (np.array(list(peft_model_results.values())) - np.array(list(original_model_results.values())))\n",
        "for key, value in zip(peft_model_results.keys(), improvement):\n",
        "    print(f'{key}: {value*100:.2f}%')"
      ]
    }
  ],
  "metadata": {
    "kaggle": {
      "accelerator": "none",
      "dataSources": [],
      "dockerImageVersionId": 30840,
      "isGpuEnabled": false,
      "isInternetEnabled": true,
      "language": "python",
      "sourceType": "notebook"
    },
    "kernelspec": {
      "display_name": "Python 3",
      "language": "python",
      "name": "python3"
    },
    "language_info": {
      "codemirror_mode": {
        "name": "ipython",
        "version": 3
      },
      "file_extension": ".py",
      "mimetype": "text/x-python",
      "name": "python",
      "nbconvert_exporter": "python",
      "pygments_lexer": "ipython3",
      "version": "3.10.12"
    },
    "papermill": {
      "default_parameters": {},
      "duration": null,
      "end_time": null,
      "environment_variables": {},
      "exception": null,
      "input_path": "__notebook__.ipynb",
      "output_path": "__notebook__.ipynb",
      "parameters": {},
      "start_time": "2025-01-31T17:34:44.013043",
      "version": "2.6.0"
    },
    "colab": {
      "provenance": []
    },
    "widgets": {
      "application/vnd.jupyter.widget-state+json": {
        "d59fdad61951471a87e090fe39242a7e": {
          "model_module": "@jupyter-widgets/controls",
          "model_name": "VBoxModel",
          "model_module_version": "2.0.0",
          "state": {
            "_dom_classes": [],
            "_model_module": "@jupyter-widgets/controls",
            "_model_module_version": "2.0.0",
            "_model_name": "VBoxModel",
            "_view_count": null,
            "_view_module": "@jupyter-widgets/controls",
            "_view_module_version": "2.0.0",
            "_view_name": "VBoxView",
            "box_style": "",
            "children": [
              "IPY_MODEL_993f810586f549b1991181f55ae098e2",
              "IPY_MODEL_56e58c4f42e6417d80b2c46ecd40a9a6",
              "IPY_MODEL_1b102978060a4e709236fcf4794bb9e8",
              "IPY_MODEL_97d8f35538d246c7ba9fe2463a5105f8",
              "IPY_MODEL_03fc2a64776545f183dd4579e5e13d36"
            ],
            "layout": "IPY_MODEL_6cb540bb6d43476296d1926ac5ac4074",
            "tabbable": null,
            "tooltip": null
          }
        },
        "993f810586f549b1991181f55ae098e2": {
          "model_module": "@jupyter-widgets/controls",
          "model_name": "HTMLModel",
          "model_module_version": "2.0.0",
          "state": {
            "_dom_classes": [],
            "_model_module": "@jupyter-widgets/controls",
            "_model_module_version": "2.0.0",
            "_model_name": "HTMLModel",
            "_view_count": null,
            "_view_module": "@jupyter-widgets/controls",
            "_view_module_version": "2.0.0",
            "_view_name": "HTMLView",
            "description": "",
            "description_allow_html": false,
            "layout": "IPY_MODEL_1b2554c8beb74fbfb9ec64ebf02aaf75",
            "placeholder": "​",
            "style": "IPY_MODEL_6411ec6ce7654135b0654406dbff5b1d",
            "tabbable": null,
            "tooltip": null,
            "value": "<center> <img\nsrc=https://huggingface.co/front/assets/huggingface_logo-noborder.svg\nalt='Hugging Face'> <br> Copy a token from <a\nhref=\"https://huggingface.co/settings/tokens\" target=\"_blank\">your Hugging Face\ntokens page</a> and paste it below. <br> Immediately click login after copying\nyour token or it might be stored in plain text in this notebook file. </center>"
          }
        },
        "56e58c4f42e6417d80b2c46ecd40a9a6": {
          "model_module": "@jupyter-widgets/controls",
          "model_name": "PasswordModel",
          "model_module_version": "2.0.0",
          "state": {
            "_dom_classes": [],
            "_model_module": "@jupyter-widgets/controls",
            "_model_module_version": "2.0.0",
            "_model_name": "PasswordModel",
            "_view_count": null,
            "_view_module": "@jupyter-widgets/controls",
            "_view_module_version": "2.0.0",
            "_view_name": "PasswordView",
            "continuous_update": true,
            "description": "Token:",
            "description_allow_html": false,
            "disabled": false,
            "layout": "IPY_MODEL_62c4349d12214941bf9cecdd4a5d6d3d",
            "placeholder": "​",
            "style": "IPY_MODEL_975d5290ef824c6795286105e2b01541",
            "tabbable": null,
            "tooltip": null,
            "value": ""
          }
        },
        "1b102978060a4e709236fcf4794bb9e8": {
          "model_module": "@jupyter-widgets/controls",
          "model_name": "CheckboxModel",
          "model_module_version": "2.0.0",
          "state": {
            "_dom_classes": [],
            "_model_module": "@jupyter-widgets/controls",
            "_model_module_version": "2.0.0",
            "_model_name": "CheckboxModel",
            "_view_count": null,
            "_view_module": "@jupyter-widgets/controls",
            "_view_module_version": "2.0.0",
            "_view_name": "CheckboxView",
            "description": "Add token as git credential?",
            "description_allow_html": false,
            "disabled": false,
            "indent": true,
            "layout": "IPY_MODEL_14b99a90aa874e469f6a21362c6920db",
            "style": "IPY_MODEL_6e3f32706e424092bcbcf87ca9c050ca",
            "tabbable": null,
            "tooltip": null,
            "value": true
          }
        },
        "97d8f35538d246c7ba9fe2463a5105f8": {
          "model_module": "@jupyter-widgets/controls",
          "model_name": "ButtonModel",
          "model_module_version": "2.0.0",
          "state": {
            "_dom_classes": [],
            "_model_module": "@jupyter-widgets/controls",
            "_model_module_version": "2.0.0",
            "_model_name": "ButtonModel",
            "_view_count": null,
            "_view_module": "@jupyter-widgets/controls",
            "_view_module_version": "2.0.0",
            "_view_name": "ButtonView",
            "button_style": "",
            "description": "Login",
            "disabled": false,
            "icon": "",
            "layout": "IPY_MODEL_c53d2d159da442f18e6aa5498682ae82",
            "style": "IPY_MODEL_86505c2458c14eb7bc9518ab7adf243b",
            "tabbable": null,
            "tooltip": null
          }
        },
        "03fc2a64776545f183dd4579e5e13d36": {
          "model_module": "@jupyter-widgets/controls",
          "model_name": "HTMLModel",
          "model_module_version": "2.0.0",
          "state": {
            "_dom_classes": [],
            "_model_module": "@jupyter-widgets/controls",
            "_model_module_version": "2.0.0",
            "_model_name": "HTMLModel",
            "_view_count": null,
            "_view_module": "@jupyter-widgets/controls",
            "_view_module_version": "2.0.0",
            "_view_name": "HTMLView",
            "description": "",
            "description_allow_html": false,
            "layout": "IPY_MODEL_4e12956bbd554b36ac2867647fec9278",
            "placeholder": "​",
            "style": "IPY_MODEL_45c2b6fcc555411183c8bb6a38d35fea",
            "tabbable": null,
            "tooltip": null,
            "value": "\n<b>Pro Tip:</b> If you don't already have one, you can create a dedicated\n'notebooks' token with 'write' access, that you can then easily reuse for all\nnotebooks. </center>"
          }
        },
        "6cb540bb6d43476296d1926ac5ac4074": {
          "model_module": "@jupyter-widgets/base",
          "model_name": "LayoutModel",
          "model_module_version": "2.0.0",
          "state": {
            "_model_module": "@jupyter-widgets/base",
            "_model_module_version": "2.0.0",
            "_model_name": "LayoutModel",
            "_view_count": null,
            "_view_module": "@jupyter-widgets/base",
            "_view_module_version": "2.0.0",
            "_view_name": "LayoutView",
            "align_content": null,
            "align_items": "center",
            "align_self": null,
            "border_bottom": null,
            "border_left": null,
            "border_right": null,
            "border_top": null,
            "bottom": null,
            "display": "flex",
            "flex": null,
            "flex_flow": "column",
            "grid_area": null,
            "grid_auto_columns": null,
            "grid_auto_flow": null,
            "grid_auto_rows": null,
            "grid_column": null,
            "grid_gap": null,
            "grid_row": null,
            "grid_template_areas": null,
            "grid_template_columns": null,
            "grid_template_rows": null,
            "height": null,
            "justify_content": null,
            "justify_items": null,
            "left": null,
            "margin": null,
            "max_height": null,
            "max_width": null,
            "min_height": null,
            "min_width": null,
            "object_fit": null,
            "object_position": null,
            "order": null,
            "overflow": null,
            "padding": null,
            "right": null,
            "top": null,
            "visibility": null,
            "width": "50%"
          }
        },
        "1b2554c8beb74fbfb9ec64ebf02aaf75": {
          "model_module": "@jupyter-widgets/base",
          "model_name": "LayoutModel",
          "model_module_version": "2.0.0",
          "state": {
            "_model_module": "@jupyter-widgets/base",
            "_model_module_version": "2.0.0",
            "_model_name": "LayoutModel",
            "_view_count": null,
            "_view_module": "@jupyter-widgets/base",
            "_view_module_version": "2.0.0",
            "_view_name": "LayoutView",
            "align_content": null,
            "align_items": null,
            "align_self": null,
            "border_bottom": null,
            "border_left": null,
            "border_right": null,
            "border_top": null,
            "bottom": null,
            "display": null,
            "flex": null,
            "flex_flow": null,
            "grid_area": null,
            "grid_auto_columns": null,
            "grid_auto_flow": null,
            "grid_auto_rows": null,
            "grid_column": null,
            "grid_gap": null,
            "grid_row": null,
            "grid_template_areas": null,
            "grid_template_columns": null,
            "grid_template_rows": null,
            "height": null,
            "justify_content": null,
            "justify_items": null,
            "left": null,
            "margin": null,
            "max_height": null,
            "max_width": null,
            "min_height": null,
            "min_width": null,
            "object_fit": null,
            "object_position": null,
            "order": null,
            "overflow": null,
            "padding": null,
            "right": null,
            "top": null,
            "visibility": null,
            "width": null
          }
        },
        "6411ec6ce7654135b0654406dbff5b1d": {
          "model_module": "@jupyter-widgets/controls",
          "model_name": "HTMLStyleModel",
          "model_module_version": "2.0.0",
          "state": {
            "_model_module": "@jupyter-widgets/controls",
            "_model_module_version": "2.0.0",
            "_model_name": "HTMLStyleModel",
            "_view_count": null,
            "_view_module": "@jupyter-widgets/base",
            "_view_module_version": "2.0.0",
            "_view_name": "StyleView",
            "background": null,
            "description_width": "",
            "font_size": null,
            "text_color": null
          }
        },
        "62c4349d12214941bf9cecdd4a5d6d3d": {
          "model_module": "@jupyter-widgets/base",
          "model_name": "LayoutModel",
          "model_module_version": "2.0.0",
          "state": {
            "_model_module": "@jupyter-widgets/base",
            "_model_module_version": "2.0.0",
            "_model_name": "LayoutModel",
            "_view_count": null,
            "_view_module": "@jupyter-widgets/base",
            "_view_module_version": "2.0.0",
            "_view_name": "LayoutView",
            "align_content": null,
            "align_items": null,
            "align_self": null,
            "border_bottom": null,
            "border_left": null,
            "border_right": null,
            "border_top": null,
            "bottom": null,
            "display": null,
            "flex": null,
            "flex_flow": null,
            "grid_area": null,
            "grid_auto_columns": null,
            "grid_auto_flow": null,
            "grid_auto_rows": null,
            "grid_column": null,
            "grid_gap": null,
            "grid_row": null,
            "grid_template_areas": null,
            "grid_template_columns": null,
            "grid_template_rows": null,
            "height": null,
            "justify_content": null,
            "justify_items": null,
            "left": null,
            "margin": null,
            "max_height": null,
            "max_width": null,
            "min_height": null,
            "min_width": null,
            "object_fit": null,
            "object_position": null,
            "order": null,
            "overflow": null,
            "padding": null,
            "right": null,
            "top": null,
            "visibility": null,
            "width": null
          }
        },
        "975d5290ef824c6795286105e2b01541": {
          "model_module": "@jupyter-widgets/controls",
          "model_name": "TextStyleModel",
          "model_module_version": "2.0.0",
          "state": {
            "_model_module": "@jupyter-widgets/controls",
            "_model_module_version": "2.0.0",
            "_model_name": "TextStyleModel",
            "_view_count": null,
            "_view_module": "@jupyter-widgets/base",
            "_view_module_version": "2.0.0",
            "_view_name": "StyleView",
            "background": null,
            "description_width": "",
            "font_size": null,
            "text_color": null
          }
        },
        "14b99a90aa874e469f6a21362c6920db": {
          "model_module": "@jupyter-widgets/base",
          "model_name": "LayoutModel",
          "model_module_version": "2.0.0",
          "state": {
            "_model_module": "@jupyter-widgets/base",
            "_model_module_version": "2.0.0",
            "_model_name": "LayoutModel",
            "_view_count": null,
            "_view_module": "@jupyter-widgets/base",
            "_view_module_version": "2.0.0",
            "_view_name": "LayoutView",
            "align_content": null,
            "align_items": null,
            "align_self": null,
            "border_bottom": null,
            "border_left": null,
            "border_right": null,
            "border_top": null,
            "bottom": null,
            "display": null,
            "flex": null,
            "flex_flow": null,
            "grid_area": null,
            "grid_auto_columns": null,
            "grid_auto_flow": null,
            "grid_auto_rows": null,
            "grid_column": null,
            "grid_gap": null,
            "grid_row": null,
            "grid_template_areas": null,
            "grid_template_columns": null,
            "grid_template_rows": null,
            "height": null,
            "justify_content": null,
            "justify_items": null,
            "left": null,
            "margin": null,
            "max_height": null,
            "max_width": null,
            "min_height": null,
            "min_width": null,
            "object_fit": null,
            "object_position": null,
            "order": null,
            "overflow": null,
            "padding": null,
            "right": null,
            "top": null,
            "visibility": null,
            "width": null
          }
        },
        "6e3f32706e424092bcbcf87ca9c050ca": {
          "model_module": "@jupyter-widgets/controls",
          "model_name": "CheckboxStyleModel",
          "model_module_version": "2.0.0",
          "state": {
            "_model_module": "@jupyter-widgets/controls",
            "_model_module_version": "2.0.0",
            "_model_name": "CheckboxStyleModel",
            "_view_count": null,
            "_view_module": "@jupyter-widgets/base",
            "_view_module_version": "2.0.0",
            "_view_name": "StyleView",
            "background": null,
            "description_width": ""
          }
        },
        "c53d2d159da442f18e6aa5498682ae82": {
          "model_module": "@jupyter-widgets/base",
          "model_name": "LayoutModel",
          "model_module_version": "2.0.0",
          "state": {
            "_model_module": "@jupyter-widgets/base",
            "_model_module_version": "2.0.0",
            "_model_name": "LayoutModel",
            "_view_count": null,
            "_view_module": "@jupyter-widgets/base",
            "_view_module_version": "2.0.0",
            "_view_name": "LayoutView",
            "align_content": null,
            "align_items": null,
            "align_self": null,
            "border_bottom": null,
            "border_left": null,
            "border_right": null,
            "border_top": null,
            "bottom": null,
            "display": null,
            "flex": null,
            "flex_flow": null,
            "grid_area": null,
            "grid_auto_columns": null,
            "grid_auto_flow": null,
            "grid_auto_rows": null,
            "grid_column": null,
            "grid_gap": null,
            "grid_row": null,
            "grid_template_areas": null,
            "grid_template_columns": null,
            "grid_template_rows": null,
            "height": null,
            "justify_content": null,
            "justify_items": null,
            "left": null,
            "margin": null,
            "max_height": null,
            "max_width": null,
            "min_height": null,
            "min_width": null,
            "object_fit": null,
            "object_position": null,
            "order": null,
            "overflow": null,
            "padding": null,
            "right": null,
            "top": null,
            "visibility": null,
            "width": null
          }
        },
        "86505c2458c14eb7bc9518ab7adf243b": {
          "model_module": "@jupyter-widgets/controls",
          "model_name": "ButtonStyleModel",
          "model_module_version": "2.0.0",
          "state": {
            "_model_module": "@jupyter-widgets/controls",
            "_model_module_version": "2.0.0",
            "_model_name": "ButtonStyleModel",
            "_view_count": null,
            "_view_module": "@jupyter-widgets/base",
            "_view_module_version": "2.0.0",
            "_view_name": "StyleView",
            "button_color": null,
            "font_family": null,
            "font_size": null,
            "font_style": null,
            "font_variant": null,
            "font_weight": null,
            "text_color": null,
            "text_decoration": null
          }
        },
        "4e12956bbd554b36ac2867647fec9278": {
          "model_module": "@jupyter-widgets/base",
          "model_name": "LayoutModel",
          "model_module_version": "2.0.0",
          "state": {
            "_model_module": "@jupyter-widgets/base",
            "_model_module_version": "2.0.0",
            "_model_name": "LayoutModel",
            "_view_count": null,
            "_view_module": "@jupyter-widgets/base",
            "_view_module_version": "2.0.0",
            "_view_name": "LayoutView",
            "align_content": null,
            "align_items": null,
            "align_self": null,
            "border_bottom": null,
            "border_left": null,
            "border_right": null,
            "border_top": null,
            "bottom": null,
            "display": null,
            "flex": null,
            "flex_flow": null,
            "grid_area": null,
            "grid_auto_columns": null,
            "grid_auto_flow": null,
            "grid_auto_rows": null,
            "grid_column": null,
            "grid_gap": null,
            "grid_row": null,
            "grid_template_areas": null,
            "grid_template_columns": null,
            "grid_template_rows": null,
            "height": null,
            "justify_content": null,
            "justify_items": null,
            "left": null,
            "margin": null,
            "max_height": null,
            "max_width": null,
            "min_height": null,
            "min_width": null,
            "object_fit": null,
            "object_position": null,
            "order": null,
            "overflow": null,
            "padding": null,
            "right": null,
            "top": null,
            "visibility": null,
            "width": null
          }
        },
        "45c2b6fcc555411183c8bb6a38d35fea": {
          "model_module": "@jupyter-widgets/controls",
          "model_name": "HTMLStyleModel",
          "model_module_version": "2.0.0",
          "state": {
            "_model_module": "@jupyter-widgets/controls",
            "_model_module_version": "2.0.0",
            "_model_name": "HTMLStyleModel",
            "_view_count": null,
            "_view_module": "@jupyter-widgets/base",
            "_view_module_version": "2.0.0",
            "_view_name": "StyleView",
            "background": null,
            "description_width": "",
            "font_size": null,
            "text_color": null
          }
        },
        "0464af205cf1428a8fdfb7ff5de0ee2a": {
          "model_module": "@jupyter-widgets/controls",
          "model_name": "HBoxModel",
          "model_module_version": "2.0.0",
          "state": {
            "_dom_classes": [],
            "_model_module": "@jupyter-widgets/controls",
            "_model_module_version": "2.0.0",
            "_model_name": "HBoxModel",
            "_view_count": null,
            "_view_module": "@jupyter-widgets/controls",
            "_view_module_version": "2.0.0",
            "_view_name": "HBoxView",
            "box_style": "",
            "children": [
              "IPY_MODEL_349948e652f245b1b61d6b748592ea28",
              "IPY_MODEL_a27cd7c668034b79a6a5ab68e9721854",
              "IPY_MODEL_bbab457d3edd4099aa8de795c7bf72a3"
            ],
            "layout": "IPY_MODEL_28969aeab65b44c9b3e8f5e1ba579c72",
            "tabbable": null,
            "tooltip": null
          }
        },
        "349948e652f245b1b61d6b748592ea28": {
          "model_module": "@jupyter-widgets/controls",
          "model_name": "HTMLModel",
          "model_module_version": "2.0.0",
          "state": {
            "_dom_classes": [],
            "_model_module": "@jupyter-widgets/controls",
            "_model_module_version": "2.0.0",
            "_model_name": "HTMLModel",
            "_view_count": null,
            "_view_module": "@jupyter-widgets/controls",
            "_view_module_version": "2.0.0",
            "_view_name": "HTMLView",
            "description": "",
            "description_allow_html": false,
            "layout": "IPY_MODEL_eda35d7038234dbc9c4831c953b9c4ff",
            "placeholder": "​",
            "style": "IPY_MODEL_cb8fd10c36be4211a48aca00f6b335ba",
            "tabbable": null,
            "tooltip": null,
            "value": "adapter_model.safetensors: 100%"
          }
        },
        "a27cd7c668034b79a6a5ab68e9721854": {
          "model_module": "@jupyter-widgets/controls",
          "model_name": "FloatProgressModel",
          "model_module_version": "2.0.0",
          "state": {
            "_dom_classes": [],
            "_model_module": "@jupyter-widgets/controls",
            "_model_module_version": "2.0.0",
            "_model_name": "FloatProgressModel",
            "_view_count": null,
            "_view_module": "@jupyter-widgets/controls",
            "_view_module_version": "2.0.0",
            "_view_name": "ProgressView",
            "bar_style": "success",
            "description": "",
            "description_allow_html": false,
            "layout": "IPY_MODEL_0615a9c95010486cafbaf882331ef5f5",
            "max": 18887168,
            "min": 0,
            "orientation": "horizontal",
            "style": "IPY_MODEL_05dee56cd55e487ab391b4e364245ba4",
            "tabbable": null,
            "tooltip": null,
            "value": 18887168
          }
        },
        "bbab457d3edd4099aa8de795c7bf72a3": {
          "model_module": "@jupyter-widgets/controls",
          "model_name": "HTMLModel",
          "model_module_version": "2.0.0",
          "state": {
            "_dom_classes": [],
            "_model_module": "@jupyter-widgets/controls",
            "_model_module_version": "2.0.0",
            "_model_name": "HTMLModel",
            "_view_count": null,
            "_view_module": "@jupyter-widgets/controls",
            "_view_module_version": "2.0.0",
            "_view_name": "HTMLView",
            "description": "",
            "description_allow_html": false,
            "layout": "IPY_MODEL_14bec4c0b82d4c0280a316f777d4fbb7",
            "placeholder": "​",
            "style": "IPY_MODEL_ab4ce3049db3430cab141220d5eb3c84",
            "tabbable": null,
            "tooltip": null,
            "value": " 18.9M/18.9M [00:06&lt;00:00, 2.84MB/s]"
          }
        },
        "28969aeab65b44c9b3e8f5e1ba579c72": {
          "model_module": "@jupyter-widgets/base",
          "model_name": "LayoutModel",
          "model_module_version": "2.0.0",
          "state": {
            "_model_module": "@jupyter-widgets/base",
            "_model_module_version": "2.0.0",
            "_model_name": "LayoutModel",
            "_view_count": null,
            "_view_module": "@jupyter-widgets/base",
            "_view_module_version": "2.0.0",
            "_view_name": "LayoutView",
            "align_content": null,
            "align_items": null,
            "align_self": null,
            "border_bottom": null,
            "border_left": null,
            "border_right": null,
            "border_top": null,
            "bottom": null,
            "display": null,
            "flex": null,
            "flex_flow": null,
            "grid_area": null,
            "grid_auto_columns": null,
            "grid_auto_flow": null,
            "grid_auto_rows": null,
            "grid_column": null,
            "grid_gap": null,
            "grid_row": null,
            "grid_template_areas": null,
            "grid_template_columns": null,
            "grid_template_rows": null,
            "height": null,
            "justify_content": null,
            "justify_items": null,
            "left": null,
            "margin": null,
            "max_height": null,
            "max_width": null,
            "min_height": null,
            "min_width": null,
            "object_fit": null,
            "object_position": null,
            "order": null,
            "overflow": null,
            "padding": null,
            "right": null,
            "top": null,
            "visibility": null,
            "width": null
          }
        },
        "eda35d7038234dbc9c4831c953b9c4ff": {
          "model_module": "@jupyter-widgets/base",
          "model_name": "LayoutModel",
          "model_module_version": "2.0.0",
          "state": {
            "_model_module": "@jupyter-widgets/base",
            "_model_module_version": "2.0.0",
            "_model_name": "LayoutModel",
            "_view_count": null,
            "_view_module": "@jupyter-widgets/base",
            "_view_module_version": "2.0.0",
            "_view_name": "LayoutView",
            "align_content": null,
            "align_items": null,
            "align_self": null,
            "border_bottom": null,
            "border_left": null,
            "border_right": null,
            "border_top": null,
            "bottom": null,
            "display": null,
            "flex": null,
            "flex_flow": null,
            "grid_area": null,
            "grid_auto_columns": null,
            "grid_auto_flow": null,
            "grid_auto_rows": null,
            "grid_column": null,
            "grid_gap": null,
            "grid_row": null,
            "grid_template_areas": null,
            "grid_template_columns": null,
            "grid_template_rows": null,
            "height": null,
            "justify_content": null,
            "justify_items": null,
            "left": null,
            "margin": null,
            "max_height": null,
            "max_width": null,
            "min_height": null,
            "min_width": null,
            "object_fit": null,
            "object_position": null,
            "order": null,
            "overflow": null,
            "padding": null,
            "right": null,
            "top": null,
            "visibility": null,
            "width": null
          }
        },
        "cb8fd10c36be4211a48aca00f6b335ba": {
          "model_module": "@jupyter-widgets/controls",
          "model_name": "HTMLStyleModel",
          "model_module_version": "2.0.0",
          "state": {
            "_model_module": "@jupyter-widgets/controls",
            "_model_module_version": "2.0.0",
            "_model_name": "HTMLStyleModel",
            "_view_count": null,
            "_view_module": "@jupyter-widgets/base",
            "_view_module_version": "2.0.0",
            "_view_name": "StyleView",
            "background": null,
            "description_width": "",
            "font_size": null,
            "text_color": null
          }
        },
        "0615a9c95010486cafbaf882331ef5f5": {
          "model_module": "@jupyter-widgets/base",
          "model_name": "LayoutModel",
          "model_module_version": "2.0.0",
          "state": {
            "_model_module": "@jupyter-widgets/base",
            "_model_module_version": "2.0.0",
            "_model_name": "LayoutModel",
            "_view_count": null,
            "_view_module": "@jupyter-widgets/base",
            "_view_module_version": "2.0.0",
            "_view_name": "LayoutView",
            "align_content": null,
            "align_items": null,
            "align_self": null,
            "border_bottom": null,
            "border_left": null,
            "border_right": null,
            "border_top": null,
            "bottom": null,
            "display": null,
            "flex": null,
            "flex_flow": null,
            "grid_area": null,
            "grid_auto_columns": null,
            "grid_auto_flow": null,
            "grid_auto_rows": null,
            "grid_column": null,
            "grid_gap": null,
            "grid_row": null,
            "grid_template_areas": null,
            "grid_template_columns": null,
            "grid_template_rows": null,
            "height": null,
            "justify_content": null,
            "justify_items": null,
            "left": null,
            "margin": null,
            "max_height": null,
            "max_width": null,
            "min_height": null,
            "min_width": null,
            "object_fit": null,
            "object_position": null,
            "order": null,
            "overflow": null,
            "padding": null,
            "right": null,
            "top": null,
            "visibility": null,
            "width": null
          }
        },
        "05dee56cd55e487ab391b4e364245ba4": {
          "model_module": "@jupyter-widgets/controls",
          "model_name": "ProgressStyleModel",
          "model_module_version": "2.0.0",
          "state": {
            "_model_module": "@jupyter-widgets/controls",
            "_model_module_version": "2.0.0",
            "_model_name": "ProgressStyleModel",
            "_view_count": null,
            "_view_module": "@jupyter-widgets/base",
            "_view_module_version": "2.0.0",
            "_view_name": "StyleView",
            "bar_color": null,
            "description_width": ""
          }
        },
        "14bec4c0b82d4c0280a316f777d4fbb7": {
          "model_module": "@jupyter-widgets/base",
          "model_name": "LayoutModel",
          "model_module_version": "2.0.0",
          "state": {
            "_model_module": "@jupyter-widgets/base",
            "_model_module_version": "2.0.0",
            "_model_name": "LayoutModel",
            "_view_count": null,
            "_view_module": "@jupyter-widgets/base",
            "_view_module_version": "2.0.0",
            "_view_name": "LayoutView",
            "align_content": null,
            "align_items": null,
            "align_self": null,
            "border_bottom": null,
            "border_left": null,
            "border_right": null,
            "border_top": null,
            "bottom": null,
            "display": null,
            "flex": null,
            "flex_flow": null,
            "grid_area": null,
            "grid_auto_columns": null,
            "grid_auto_flow": null,
            "grid_auto_rows": null,
            "grid_column": null,
            "grid_gap": null,
            "grid_row": null,
            "grid_template_areas": null,
            "grid_template_columns": null,
            "grid_template_rows": null,
            "height": null,
            "justify_content": null,
            "justify_items": null,
            "left": null,
            "margin": null,
            "max_height": null,
            "max_width": null,
            "min_height": null,
            "min_width": null,
            "object_fit": null,
            "object_position": null,
            "order": null,
            "overflow": null,
            "padding": null,
            "right": null,
            "top": null,
            "visibility": null,
            "width": null
          }
        },
        "ab4ce3049db3430cab141220d5eb3c84": {
          "model_module": "@jupyter-widgets/controls",
          "model_name": "HTMLStyleModel",
          "model_module_version": "2.0.0",
          "state": {
            "_model_module": "@jupyter-widgets/controls",
            "_model_module_version": "2.0.0",
            "_model_name": "HTMLStyleModel",
            "_view_count": null,
            "_view_module": "@jupyter-widgets/base",
            "_view_module_version": "2.0.0",
            "_view_name": "StyleView",
            "background": null,
            "description_width": "",
            "font_size": null,
            "text_color": null
          }
        },
        "33437ddb9e3b423f842e1c91cb9d5686": {
          "model_module": "@jupyter-widgets/controls",
          "model_name": "HBoxModel",
          "model_module_version": "2.0.0",
          "state": {
            "_dom_classes": [],
            "_model_module": "@jupyter-widgets/controls",
            "_model_module_version": "2.0.0",
            "_model_name": "HBoxModel",
            "_view_count": null,
            "_view_module": "@jupyter-widgets/controls",
            "_view_module_version": "2.0.0",
            "_view_name": "HBoxView",
            "box_style": "",
            "children": [
              "IPY_MODEL_159de1edd54c485698f9569234bc20e8",
              "IPY_MODEL_70aa85af3555406b9734ef35d7bed410",
              "IPY_MODEL_3c7e126f368040f39518bdf7e542716c"
            ],
            "layout": "IPY_MODEL_94c384f7c79b4a479bc6acb86ec4a75e",
            "tabbable": null,
            "tooltip": null
          }
        },
        "159de1edd54c485698f9569234bc20e8": {
          "model_module": "@jupyter-widgets/controls",
          "model_name": "HTMLModel",
          "model_module_version": "2.0.0",
          "state": {
            "_dom_classes": [],
            "_model_module": "@jupyter-widgets/controls",
            "_model_module_version": "2.0.0",
            "_model_name": "HTMLModel",
            "_view_count": null,
            "_view_module": "@jupyter-widgets/controls",
            "_view_module_version": "2.0.0",
            "_view_name": "HTMLView",
            "description": "",
            "description_allow_html": false,
            "layout": "IPY_MODEL_387c907769974406bd50a2a4c39fd8ea",
            "placeholder": "​",
            "style": "IPY_MODEL_f333ed1e3c5b473b991c6bcb92c159e3",
            "tabbable": null,
            "tooltip": null,
            "value": "README.md: 100%"
          }
        },
        "70aa85af3555406b9734ef35d7bed410": {
          "model_module": "@jupyter-widgets/controls",
          "model_name": "FloatProgressModel",
          "model_module_version": "2.0.0",
          "state": {
            "_dom_classes": [],
            "_model_module": "@jupyter-widgets/controls",
            "_model_module_version": "2.0.0",
            "_model_name": "FloatProgressModel",
            "_view_count": null,
            "_view_module": "@jupyter-widgets/controls",
            "_view_module_version": "2.0.0",
            "_view_name": "ProgressView",
            "bar_style": "success",
            "description": "",
            "description_allow_html": false,
            "layout": "IPY_MODEL_2f7ee3b7216a424aa5a1c3200e1ffcf4",
            "max": 5174,
            "min": 0,
            "orientation": "horizontal",
            "style": "IPY_MODEL_ffcdc3fe03ea447a9680bd75e4cfd643",
            "tabbable": null,
            "tooltip": null,
            "value": 5174
          }
        },
        "3c7e126f368040f39518bdf7e542716c": {
          "model_module": "@jupyter-widgets/controls",
          "model_name": "HTMLModel",
          "model_module_version": "2.0.0",
          "state": {
            "_dom_classes": [],
            "_model_module": "@jupyter-widgets/controls",
            "_model_module_version": "2.0.0",
            "_model_name": "HTMLModel",
            "_view_count": null,
            "_view_module": "@jupyter-widgets/controls",
            "_view_module_version": "2.0.0",
            "_view_name": "HTMLView",
            "description": "",
            "description_allow_html": false,
            "layout": "IPY_MODEL_8e24bd771ae44a80a838b90c2ee1b87f",
            "placeholder": "​",
            "style": "IPY_MODEL_baa149dec4934884b0135376f97716a1",
            "tabbable": null,
            "tooltip": null,
            "value": " 5.17k/5.17k [00:00&lt;00:00, 938kB/s]"
          }
        },
        "94c384f7c79b4a479bc6acb86ec4a75e": {
          "model_module": "@jupyter-widgets/base",
          "model_name": "LayoutModel",
          "model_module_version": "2.0.0",
          "state": {
            "_model_module": "@jupyter-widgets/base",
            "_model_module_version": "2.0.0",
            "_model_name": "LayoutModel",
            "_view_count": null,
            "_view_module": "@jupyter-widgets/base",
            "_view_module_version": "2.0.0",
            "_view_name": "LayoutView",
            "align_content": null,
            "align_items": null,
            "align_self": null,
            "border_bottom": null,
            "border_left": null,
            "border_right": null,
            "border_top": null,
            "bottom": null,
            "display": null,
            "flex": null,
            "flex_flow": null,
            "grid_area": null,
            "grid_auto_columns": null,
            "grid_auto_flow": null,
            "grid_auto_rows": null,
            "grid_column": null,
            "grid_gap": null,
            "grid_row": null,
            "grid_template_areas": null,
            "grid_template_columns": null,
            "grid_template_rows": null,
            "height": null,
            "justify_content": null,
            "justify_items": null,
            "left": null,
            "margin": null,
            "max_height": null,
            "max_width": null,
            "min_height": null,
            "min_width": null,
            "object_fit": null,
            "object_position": null,
            "order": null,
            "overflow": null,
            "padding": null,
            "right": null,
            "top": null,
            "visibility": null,
            "width": null
          }
        },
        "387c907769974406bd50a2a4c39fd8ea": {
          "model_module": "@jupyter-widgets/base",
          "model_name": "LayoutModel",
          "model_module_version": "2.0.0",
          "state": {
            "_model_module": "@jupyter-widgets/base",
            "_model_module_version": "2.0.0",
            "_model_name": "LayoutModel",
            "_view_count": null,
            "_view_module": "@jupyter-widgets/base",
            "_view_module_version": "2.0.0",
            "_view_name": "LayoutView",
            "align_content": null,
            "align_items": null,
            "align_self": null,
            "border_bottom": null,
            "border_left": null,
            "border_right": null,
            "border_top": null,
            "bottom": null,
            "display": null,
            "flex": null,
            "flex_flow": null,
            "grid_area": null,
            "grid_auto_columns": null,
            "grid_auto_flow": null,
            "grid_auto_rows": null,
            "grid_column": null,
            "grid_gap": null,
            "grid_row": null,
            "grid_template_areas": null,
            "grid_template_columns": null,
            "grid_template_rows": null,
            "height": null,
            "justify_content": null,
            "justify_items": null,
            "left": null,
            "margin": null,
            "max_height": null,
            "max_width": null,
            "min_height": null,
            "min_width": null,
            "object_fit": null,
            "object_position": null,
            "order": null,
            "overflow": null,
            "padding": null,
            "right": null,
            "top": null,
            "visibility": null,
            "width": null
          }
        },
        "f333ed1e3c5b473b991c6bcb92c159e3": {
          "model_module": "@jupyter-widgets/controls",
          "model_name": "HTMLStyleModel",
          "model_module_version": "2.0.0",
          "state": {
            "_model_module": "@jupyter-widgets/controls",
            "_model_module_version": "2.0.0",
            "_model_name": "HTMLStyleModel",
            "_view_count": null,
            "_view_module": "@jupyter-widgets/base",
            "_view_module_version": "2.0.0",
            "_view_name": "StyleView",
            "background": null,
            "description_width": "",
            "font_size": null,
            "text_color": null
          }
        },
        "2f7ee3b7216a424aa5a1c3200e1ffcf4": {
          "model_module": "@jupyter-widgets/base",
          "model_name": "LayoutModel",
          "model_module_version": "2.0.0",
          "state": {
            "_model_module": "@jupyter-widgets/base",
            "_model_module_version": "2.0.0",
            "_model_name": "LayoutModel",
            "_view_count": null,
            "_view_module": "@jupyter-widgets/base",
            "_view_module_version": "2.0.0",
            "_view_name": "LayoutView",
            "align_content": null,
            "align_items": null,
            "align_self": null,
            "border_bottom": null,
            "border_left": null,
            "border_right": null,
            "border_top": null,
            "bottom": null,
            "display": null,
            "flex": null,
            "flex_flow": null,
            "grid_area": null,
            "grid_auto_columns": null,
            "grid_auto_flow": null,
            "grid_auto_rows": null,
            "grid_column": null,
            "grid_gap": null,
            "grid_row": null,
            "grid_template_areas": null,
            "grid_template_columns": null,
            "grid_template_rows": null,
            "height": null,
            "justify_content": null,
            "justify_items": null,
            "left": null,
            "margin": null,
            "max_height": null,
            "max_width": null,
            "min_height": null,
            "min_width": null,
            "object_fit": null,
            "object_position": null,
            "order": null,
            "overflow": null,
            "padding": null,
            "right": null,
            "top": null,
            "visibility": null,
            "width": null
          }
        },
        "ffcdc3fe03ea447a9680bd75e4cfd643": {
          "model_module": "@jupyter-widgets/controls",
          "model_name": "ProgressStyleModel",
          "model_module_version": "2.0.0",
          "state": {
            "_model_module": "@jupyter-widgets/controls",
            "_model_module_version": "2.0.0",
            "_model_name": "ProgressStyleModel",
            "_view_count": null,
            "_view_module": "@jupyter-widgets/base",
            "_view_module_version": "2.0.0",
            "_view_name": "StyleView",
            "bar_color": null,
            "description_width": ""
          }
        },
        "8e24bd771ae44a80a838b90c2ee1b87f": {
          "model_module": "@jupyter-widgets/base",
          "model_name": "LayoutModel",
          "model_module_version": "2.0.0",
          "state": {
            "_model_module": "@jupyter-widgets/base",
            "_model_module_version": "2.0.0",
            "_model_name": "LayoutModel",
            "_view_count": null,
            "_view_module": "@jupyter-widgets/base",
            "_view_module_version": "2.0.0",
            "_view_name": "LayoutView",
            "align_content": null,
            "align_items": null,
            "align_self": null,
            "border_bottom": null,
            "border_left": null,
            "border_right": null,
            "border_top": null,
            "bottom": null,
            "display": null,
            "flex": null,
            "flex_flow": null,
            "grid_area": null,
            "grid_auto_columns": null,
            "grid_auto_flow": null,
            "grid_auto_rows": null,
            "grid_column": null,
            "grid_gap": null,
            "grid_row": null,
            "grid_template_areas": null,
            "grid_template_columns": null,
            "grid_template_rows": null,
            "height": null,
            "justify_content": null,
            "justify_items": null,
            "left": null,
            "margin": null,
            "max_height": null,
            "max_width": null,
            "min_height": null,
            "min_width": null,
            "object_fit": null,
            "object_position": null,
            "order": null,
            "overflow": null,
            "padding": null,
            "right": null,
            "top": null,
            "visibility": null,
            "width": null
          }
        },
        "baa149dec4934884b0135376f97716a1": {
          "model_module": "@jupyter-widgets/controls",
          "model_name": "HTMLStyleModel",
          "model_module_version": "2.0.0",
          "state": {
            "_model_module": "@jupyter-widgets/controls",
            "_model_module_version": "2.0.0",
            "_model_name": "HTMLStyleModel",
            "_view_count": null,
            "_view_module": "@jupyter-widgets/base",
            "_view_module_version": "2.0.0",
            "_view_name": "StyleView",
            "background": null,
            "description_width": "",
            "font_size": null,
            "text_color": null
          }
        },
        "4c5eb04fcd714d9da112849a6dee03b0": {
          "model_module": "@jupyter-widgets/controls",
          "model_name": "HBoxModel",
          "model_module_version": "2.0.0",
          "state": {
            "_dom_classes": [],
            "_model_module": "@jupyter-widgets/controls",
            "_model_module_version": "2.0.0",
            "_model_name": "HBoxModel",
            "_view_count": null,
            "_view_module": "@jupyter-widgets/controls",
            "_view_module_version": "2.0.0",
            "_view_name": "HBoxView",
            "box_style": "",
            "children": [
              "IPY_MODEL_1bb412bbc8664b9ea3b2e3b4ba8b9791",
              "IPY_MODEL_a92cee60ff0b47b882e679c44dc09459",
              "IPY_MODEL_2cf3e1caa84f44e485310c2eb4940aca"
            ],
            "layout": "IPY_MODEL_77a4b6a0b70c485bb6cefde1614f79eb",
            "tabbable": null,
            "tooltip": null
          }
        },
        "1bb412bbc8664b9ea3b2e3b4ba8b9791": {
          "model_module": "@jupyter-widgets/controls",
          "model_name": "HTMLModel",
          "model_module_version": "2.0.0",
          "state": {
            "_dom_classes": [],
            "_model_module": "@jupyter-widgets/controls",
            "_model_module_version": "2.0.0",
            "_model_name": "HTMLModel",
            "_view_count": null,
            "_view_module": "@jupyter-widgets/controls",
            "_view_module_version": "2.0.0",
            "_view_name": "HTMLView",
            "description": "",
            "description_allow_html": false,
            "layout": "IPY_MODEL_d835bf726812457183ce779fdd4ca5be",
            "placeholder": "​",
            "style": "IPY_MODEL_b7e51c28f3c54ac69a58a45a332bb6a6",
            "tabbable": null,
            "tooltip": null,
            "value": "tokenizer.json: 100%"
          }
        },
        "a92cee60ff0b47b882e679c44dc09459": {
          "model_module": "@jupyter-widgets/controls",
          "model_name": "FloatProgressModel",
          "model_module_version": "2.0.0",
          "state": {
            "_dom_classes": [],
            "_model_module": "@jupyter-widgets/controls",
            "_model_module_version": "2.0.0",
            "_model_name": "FloatProgressModel",
            "_view_count": null,
            "_view_module": "@jupyter-widgets/controls",
            "_view_module_version": "2.0.0",
            "_view_name": "ProgressView",
            "bar_style": "success",
            "description": "",
            "description_allow_html": false,
            "layout": "IPY_MODEL_246fd2ad4b1c44a0b27999a8fc3666e6",
            "max": 17209920,
            "min": 0,
            "orientation": "horizontal",
            "style": "IPY_MODEL_f931e4737e5245f3b4fa8a9f54301054",
            "tabbable": null,
            "tooltip": null,
            "value": 17209920
          }
        },
        "2cf3e1caa84f44e485310c2eb4940aca": {
          "model_module": "@jupyter-widgets/controls",
          "model_name": "HTMLModel",
          "model_module_version": "2.0.0",
          "state": {
            "_dom_classes": [],
            "_model_module": "@jupyter-widgets/controls",
            "_model_module_version": "2.0.0",
            "_model_name": "HTMLModel",
            "_view_count": null,
            "_view_module": "@jupyter-widgets/controls",
            "_view_module_version": "2.0.0",
            "_view_name": "HTMLView",
            "description": "",
            "description_allow_html": false,
            "layout": "IPY_MODEL_bc8bd372fcad4c81b6a8e845ed3f96f6",
            "placeholder": "​",
            "style": "IPY_MODEL_48958a0d9284499791b769e1cdb71c17",
            "tabbable": null,
            "tooltip": null,
            "value": " 17.2M/17.2M [00:06&lt;00:00, 2.24MB/s]"
          }
        },
        "77a4b6a0b70c485bb6cefde1614f79eb": {
          "model_module": "@jupyter-widgets/base",
          "model_name": "LayoutModel",
          "model_module_version": "2.0.0",
          "state": {
            "_model_module": "@jupyter-widgets/base",
            "_model_module_version": "2.0.0",
            "_model_name": "LayoutModel",
            "_view_count": null,
            "_view_module": "@jupyter-widgets/base",
            "_view_module_version": "2.0.0",
            "_view_name": "LayoutView",
            "align_content": null,
            "align_items": null,
            "align_self": null,
            "border_bottom": null,
            "border_left": null,
            "border_right": null,
            "border_top": null,
            "bottom": null,
            "display": null,
            "flex": null,
            "flex_flow": null,
            "grid_area": null,
            "grid_auto_columns": null,
            "grid_auto_flow": null,
            "grid_auto_rows": null,
            "grid_column": null,
            "grid_gap": null,
            "grid_row": null,
            "grid_template_areas": null,
            "grid_template_columns": null,
            "grid_template_rows": null,
            "height": null,
            "justify_content": null,
            "justify_items": null,
            "left": null,
            "margin": null,
            "max_height": null,
            "max_width": null,
            "min_height": null,
            "min_width": null,
            "object_fit": null,
            "object_position": null,
            "order": null,
            "overflow": null,
            "padding": null,
            "right": null,
            "top": null,
            "visibility": null,
            "width": null
          }
        },
        "d835bf726812457183ce779fdd4ca5be": {
          "model_module": "@jupyter-widgets/base",
          "model_name": "LayoutModel",
          "model_module_version": "2.0.0",
          "state": {
            "_model_module": "@jupyter-widgets/base",
            "_model_module_version": "2.0.0",
            "_model_name": "LayoutModel",
            "_view_count": null,
            "_view_module": "@jupyter-widgets/base",
            "_view_module_version": "2.0.0",
            "_view_name": "LayoutView",
            "align_content": null,
            "align_items": null,
            "align_self": null,
            "border_bottom": null,
            "border_left": null,
            "border_right": null,
            "border_top": null,
            "bottom": null,
            "display": null,
            "flex": null,
            "flex_flow": null,
            "grid_area": null,
            "grid_auto_columns": null,
            "grid_auto_flow": null,
            "grid_auto_rows": null,
            "grid_column": null,
            "grid_gap": null,
            "grid_row": null,
            "grid_template_areas": null,
            "grid_template_columns": null,
            "grid_template_rows": null,
            "height": null,
            "justify_content": null,
            "justify_items": null,
            "left": null,
            "margin": null,
            "max_height": null,
            "max_width": null,
            "min_height": null,
            "min_width": null,
            "object_fit": null,
            "object_position": null,
            "order": null,
            "overflow": null,
            "padding": null,
            "right": null,
            "top": null,
            "visibility": null,
            "width": null
          }
        },
        "b7e51c28f3c54ac69a58a45a332bb6a6": {
          "model_module": "@jupyter-widgets/controls",
          "model_name": "HTMLStyleModel",
          "model_module_version": "2.0.0",
          "state": {
            "_model_module": "@jupyter-widgets/controls",
            "_model_module_version": "2.0.0",
            "_model_name": "HTMLStyleModel",
            "_view_count": null,
            "_view_module": "@jupyter-widgets/base",
            "_view_module_version": "2.0.0",
            "_view_name": "StyleView",
            "background": null,
            "description_width": "",
            "font_size": null,
            "text_color": null
          }
        },
        "246fd2ad4b1c44a0b27999a8fc3666e6": {
          "model_module": "@jupyter-widgets/base",
          "model_name": "LayoutModel",
          "model_module_version": "2.0.0",
          "state": {
            "_model_module": "@jupyter-widgets/base",
            "_model_module_version": "2.0.0",
            "_model_name": "LayoutModel",
            "_view_count": null,
            "_view_module": "@jupyter-widgets/base",
            "_view_module_version": "2.0.0",
            "_view_name": "LayoutView",
            "align_content": null,
            "align_items": null,
            "align_self": null,
            "border_bottom": null,
            "border_left": null,
            "border_right": null,
            "border_top": null,
            "bottom": null,
            "display": null,
            "flex": null,
            "flex_flow": null,
            "grid_area": null,
            "grid_auto_columns": null,
            "grid_auto_flow": null,
            "grid_auto_rows": null,
            "grid_column": null,
            "grid_gap": null,
            "grid_row": null,
            "grid_template_areas": null,
            "grid_template_columns": null,
            "grid_template_rows": null,
            "height": null,
            "justify_content": null,
            "justify_items": null,
            "left": null,
            "margin": null,
            "max_height": null,
            "max_width": null,
            "min_height": null,
            "min_width": null,
            "object_fit": null,
            "object_position": null,
            "order": null,
            "overflow": null,
            "padding": null,
            "right": null,
            "top": null,
            "visibility": null,
            "width": null
          }
        },
        "f931e4737e5245f3b4fa8a9f54301054": {
          "model_module": "@jupyter-widgets/controls",
          "model_name": "ProgressStyleModel",
          "model_module_version": "2.0.0",
          "state": {
            "_model_module": "@jupyter-widgets/controls",
            "_model_module_version": "2.0.0",
            "_model_name": "ProgressStyleModel",
            "_view_count": null,
            "_view_module": "@jupyter-widgets/base",
            "_view_module_version": "2.0.0",
            "_view_name": "StyleView",
            "bar_color": null,
            "description_width": ""
          }
        },
        "bc8bd372fcad4c81b6a8e845ed3f96f6": {
          "model_module": "@jupyter-widgets/base",
          "model_name": "LayoutModel",
          "model_module_version": "2.0.0",
          "state": {
            "_model_module": "@jupyter-widgets/base",
            "_model_module_version": "2.0.0",
            "_model_name": "LayoutModel",
            "_view_count": null,
            "_view_module": "@jupyter-widgets/base",
            "_view_module_version": "2.0.0",
            "_view_name": "LayoutView",
            "align_content": null,
            "align_items": null,
            "align_self": null,
            "border_bottom": null,
            "border_left": null,
            "border_right": null,
            "border_top": null,
            "bottom": null,
            "display": null,
            "flex": null,
            "flex_flow": null,
            "grid_area": null,
            "grid_auto_columns": null,
            "grid_auto_flow": null,
            "grid_auto_rows": null,
            "grid_column": null,
            "grid_gap": null,
            "grid_row": null,
            "grid_template_areas": null,
            "grid_template_columns": null,
            "grid_template_rows": null,
            "height": null,
            "justify_content": null,
            "justify_items": null,
            "left": null,
            "margin": null,
            "max_height": null,
            "max_width": null,
            "min_height": null,
            "min_width": null,
            "object_fit": null,
            "object_position": null,
            "order": null,
            "overflow": null,
            "padding": null,
            "right": null,
            "top": null,
            "visibility": null,
            "width": null
          }
        },
        "48958a0d9284499791b769e1cdb71c17": {
          "model_module": "@jupyter-widgets/controls",
          "model_name": "HTMLStyleModel",
          "model_module_version": "2.0.0",
          "state": {
            "_model_module": "@jupyter-widgets/controls",
            "_model_module_version": "2.0.0",
            "_model_name": "HTMLStyleModel",
            "_view_count": null,
            "_view_module": "@jupyter-widgets/base",
            "_view_module_version": "2.0.0",
            "_view_name": "StyleView",
            "background": null,
            "description_width": "",
            "font_size": null,
            "text_color": null
          }
        },
        "751bb36c2b744fcfa3a8f899279b34c6": {
          "model_module": "@jupyter-widgets/controls",
          "model_name": "HBoxModel",
          "model_module_version": "2.0.0",
          "state": {
            "_dom_classes": [],
            "_model_module": "@jupyter-widgets/controls",
            "_model_module_version": "2.0.0",
            "_model_name": "HBoxModel",
            "_view_count": null,
            "_view_module": "@jupyter-widgets/controls",
            "_view_module_version": "2.0.0",
            "_view_name": "HBoxView",
            "box_style": "",
            "children": [
              "IPY_MODEL_8d4bb6fa8dc44b54a9826f7e8d02d2ce",
              "IPY_MODEL_020b2d5e5a6d4808afaf70d69b305314",
              "IPY_MODEL_36460039ca534afdbb4d85161f6c6c4f"
            ],
            "layout": "IPY_MODEL_26b749a4643f4659932571cf6c20a6d2",
            "tabbable": null,
            "tooltip": null
          }
        },
        "8d4bb6fa8dc44b54a9826f7e8d02d2ce": {
          "model_module": "@jupyter-widgets/controls",
          "model_name": "HTMLModel",
          "model_module_version": "2.0.0",
          "state": {
            "_dom_classes": [],
            "_model_module": "@jupyter-widgets/controls",
            "_model_module_version": "2.0.0",
            "_model_name": "HTMLModel",
            "_view_count": null,
            "_view_module": "@jupyter-widgets/controls",
            "_view_module_version": "2.0.0",
            "_view_name": "HTMLView",
            "description": "",
            "description_allow_html": false,
            "layout": "IPY_MODEL_4aa381b108db4e6ca08d00de8f6d5f6e",
            "placeholder": "​",
            "style": "IPY_MODEL_1fc840d3c37541b095bec9f348604963",
            "tabbable": null,
            "tooltip": null,
            "value": "Downloading builder script: 100%"
          }
        },
        "020b2d5e5a6d4808afaf70d69b305314": {
          "model_module": "@jupyter-widgets/controls",
          "model_name": "FloatProgressModel",
          "model_module_version": "2.0.0",
          "state": {
            "_dom_classes": [],
            "_model_module": "@jupyter-widgets/controls",
            "_model_module_version": "2.0.0",
            "_model_name": "FloatProgressModel",
            "_view_count": null,
            "_view_module": "@jupyter-widgets/controls",
            "_view_module_version": "2.0.0",
            "_view_name": "ProgressView",
            "bar_style": "success",
            "description": "",
            "description_allow_html": false,
            "layout": "IPY_MODEL_bf5be5e94403409d9d1f3369baa59246",
            "max": 6270,
            "min": 0,
            "orientation": "horizontal",
            "style": "IPY_MODEL_e2d169b320b449eb8695d05a32cf9821",
            "tabbable": null,
            "tooltip": null,
            "value": 6270
          }
        },
        "36460039ca534afdbb4d85161f6c6c4f": {
          "model_module": "@jupyter-widgets/controls",
          "model_name": "HTMLModel",
          "model_module_version": "2.0.0",
          "state": {
            "_dom_classes": [],
            "_model_module": "@jupyter-widgets/controls",
            "_model_module_version": "2.0.0",
            "_model_name": "HTMLModel",
            "_view_count": null,
            "_view_module": "@jupyter-widgets/controls",
            "_view_module_version": "2.0.0",
            "_view_name": "HTMLView",
            "description": "",
            "description_allow_html": false,
            "layout": "IPY_MODEL_8de022c9d73046a7a56e5b916a71f539",
            "placeholder": "​",
            "style": "IPY_MODEL_df97d2e6827a46a8a985bd97a892eb1d",
            "tabbable": null,
            "tooltip": null,
            "value": " 6.27k/6.27k [00:00&lt;00:00, 768kB/s]"
          }
        },
        "26b749a4643f4659932571cf6c20a6d2": {
          "model_module": "@jupyter-widgets/base",
          "model_name": "LayoutModel",
          "model_module_version": "2.0.0",
          "state": {
            "_model_module": "@jupyter-widgets/base",
            "_model_module_version": "2.0.0",
            "_model_name": "LayoutModel",
            "_view_count": null,
            "_view_module": "@jupyter-widgets/base",
            "_view_module_version": "2.0.0",
            "_view_name": "LayoutView",
            "align_content": null,
            "align_items": null,
            "align_self": null,
            "border_bottom": null,
            "border_left": null,
            "border_right": null,
            "border_top": null,
            "bottom": null,
            "display": null,
            "flex": null,
            "flex_flow": null,
            "grid_area": null,
            "grid_auto_columns": null,
            "grid_auto_flow": null,
            "grid_auto_rows": null,
            "grid_column": null,
            "grid_gap": null,
            "grid_row": null,
            "grid_template_areas": null,
            "grid_template_columns": null,
            "grid_template_rows": null,
            "height": null,
            "justify_content": null,
            "justify_items": null,
            "left": null,
            "margin": null,
            "max_height": null,
            "max_width": null,
            "min_height": null,
            "min_width": null,
            "object_fit": null,
            "object_position": null,
            "order": null,
            "overflow": null,
            "padding": null,
            "right": null,
            "top": null,
            "visibility": null,
            "width": null
          }
        },
        "4aa381b108db4e6ca08d00de8f6d5f6e": {
          "model_module": "@jupyter-widgets/base",
          "model_name": "LayoutModel",
          "model_module_version": "2.0.0",
          "state": {
            "_model_module": "@jupyter-widgets/base",
            "_model_module_version": "2.0.0",
            "_model_name": "LayoutModel",
            "_view_count": null,
            "_view_module": "@jupyter-widgets/base",
            "_view_module_version": "2.0.0",
            "_view_name": "LayoutView",
            "align_content": null,
            "align_items": null,
            "align_self": null,
            "border_bottom": null,
            "border_left": null,
            "border_right": null,
            "border_top": null,
            "bottom": null,
            "display": null,
            "flex": null,
            "flex_flow": null,
            "grid_area": null,
            "grid_auto_columns": null,
            "grid_auto_flow": null,
            "grid_auto_rows": null,
            "grid_column": null,
            "grid_gap": null,
            "grid_row": null,
            "grid_template_areas": null,
            "grid_template_columns": null,
            "grid_template_rows": null,
            "height": null,
            "justify_content": null,
            "justify_items": null,
            "left": null,
            "margin": null,
            "max_height": null,
            "max_width": null,
            "min_height": null,
            "min_width": null,
            "object_fit": null,
            "object_position": null,
            "order": null,
            "overflow": null,
            "padding": null,
            "right": null,
            "top": null,
            "visibility": null,
            "width": null
          }
        },
        "1fc840d3c37541b095bec9f348604963": {
          "model_module": "@jupyter-widgets/controls",
          "model_name": "HTMLStyleModel",
          "model_module_version": "2.0.0",
          "state": {
            "_model_module": "@jupyter-widgets/controls",
            "_model_module_version": "2.0.0",
            "_model_name": "HTMLStyleModel",
            "_view_count": null,
            "_view_module": "@jupyter-widgets/base",
            "_view_module_version": "2.0.0",
            "_view_name": "StyleView",
            "background": null,
            "description_width": "",
            "font_size": null,
            "text_color": null
          }
        },
        "bf5be5e94403409d9d1f3369baa59246": {
          "model_module": "@jupyter-widgets/base",
          "model_name": "LayoutModel",
          "model_module_version": "2.0.0",
          "state": {
            "_model_module": "@jupyter-widgets/base",
            "_model_module_version": "2.0.0",
            "_model_name": "LayoutModel",
            "_view_count": null,
            "_view_module": "@jupyter-widgets/base",
            "_view_module_version": "2.0.0",
            "_view_name": "LayoutView",
            "align_content": null,
            "align_items": null,
            "align_self": null,
            "border_bottom": null,
            "border_left": null,
            "border_right": null,
            "border_top": null,
            "bottom": null,
            "display": null,
            "flex": null,
            "flex_flow": null,
            "grid_area": null,
            "grid_auto_columns": null,
            "grid_auto_flow": null,
            "grid_auto_rows": null,
            "grid_column": null,
            "grid_gap": null,
            "grid_row": null,
            "grid_template_areas": null,
            "grid_template_columns": null,
            "grid_template_rows": null,
            "height": null,
            "justify_content": null,
            "justify_items": null,
            "left": null,
            "margin": null,
            "max_height": null,
            "max_width": null,
            "min_height": null,
            "min_width": null,
            "object_fit": null,
            "object_position": null,
            "order": null,
            "overflow": null,
            "padding": null,
            "right": null,
            "top": null,
            "visibility": null,
            "width": null
          }
        },
        "e2d169b320b449eb8695d05a32cf9821": {
          "model_module": "@jupyter-widgets/controls",
          "model_name": "ProgressStyleModel",
          "model_module_version": "2.0.0",
          "state": {
            "_model_module": "@jupyter-widgets/controls",
            "_model_module_version": "2.0.0",
            "_model_name": "ProgressStyleModel",
            "_view_count": null,
            "_view_module": "@jupyter-widgets/base",
            "_view_module_version": "2.0.0",
            "_view_name": "StyleView",
            "bar_color": null,
            "description_width": ""
          }
        },
        "8de022c9d73046a7a56e5b916a71f539": {
          "model_module": "@jupyter-widgets/base",
          "model_name": "LayoutModel",
          "model_module_version": "2.0.0",
          "state": {
            "_model_module": "@jupyter-widgets/base",
            "_model_module_version": "2.0.0",
            "_model_name": "LayoutModel",
            "_view_count": null,
            "_view_module": "@jupyter-widgets/base",
            "_view_module_version": "2.0.0",
            "_view_name": "LayoutView",
            "align_content": null,
            "align_items": null,
            "align_self": null,
            "border_bottom": null,
            "border_left": null,
            "border_right": null,
            "border_top": null,
            "bottom": null,
            "display": null,
            "flex": null,
            "flex_flow": null,
            "grid_area": null,
            "grid_auto_columns": null,
            "grid_auto_flow": null,
            "grid_auto_rows": null,
            "grid_column": null,
            "grid_gap": null,
            "grid_row": null,
            "grid_template_areas": null,
            "grid_template_columns": null,
            "grid_template_rows": null,
            "height": null,
            "justify_content": null,
            "justify_items": null,
            "left": null,
            "margin": null,
            "max_height": null,
            "max_width": null,
            "min_height": null,
            "min_width": null,
            "object_fit": null,
            "object_position": null,
            "order": null,
            "overflow": null,
            "padding": null,
            "right": null,
            "top": null,
            "visibility": null,
            "width": null
          }
        },
        "df97d2e6827a46a8a985bd97a892eb1d": {
          "model_module": "@jupyter-widgets/controls",
          "model_name": "HTMLStyleModel",
          "model_module_version": "2.0.0",
          "state": {
            "_model_module": "@jupyter-widgets/controls",
            "_model_module_version": "2.0.0",
            "_model_name": "HTMLStyleModel",
            "_view_count": null,
            "_view_module": "@jupyter-widgets/base",
            "_view_module_version": "2.0.0",
            "_view_name": "StyleView",
            "background": null,
            "description_width": "",
            "font_size": null,
            "text_color": null
          }
        }
      }
    }
  },
  "nbformat": 4,
  "nbformat_minor": 5
}